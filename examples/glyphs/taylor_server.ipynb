{
 "metadata": {
  "name": "",
  "signature": "sha256:b9df5ba79bc070784666f1a600cd7d4c24bc9fe390633e8960491e3125573f87"
 },
 "nbformat": 3,
 "nbformat_minor": 0,
 "worksheets": [
  {
   "cells": [
    {
     "cell_type": "code",
     "collapsed": false,
     "input": [
      "from __future__ import absolute_import"
     ],
     "language": "python",
     "metadata": {},
     "outputs": [],
     "prompt_number": 2
    },
    {
     "cell_type": "code",
     "collapsed": false,
     "input": [
      "import numpy as np\n",
      "import sympy as sy"
     ],
     "language": "python",
     "metadata": {},
     "outputs": [],
     "prompt_number": 3
    },
    {
     "cell_type": "code",
     "collapsed": false,
     "input": [
      "from bokeh.document import Document\n",
      "from bokeh.glyphs import Line\n",
      "from bokeh.objects import (\n",
      "    Plot, DataRange1d, LinearAxis, ColumnDataSource, Glyph, Grid, Legend\n",
      ")\n",
      "from bokeh.session import Session\n",
      "from bokeh.widgetobjects import Slider, TextInput, HBox, VBox, Dialog"
     ],
     "language": "python",
     "metadata": {},
     "outputs": [],
     "prompt_number": 4
    },
    {
     "cell_type": "code",
     "collapsed": false,
     "input": [
      "document = Document()\n",
      "session = Session()\n",
      "session.use_doc('taylor_server')\n",
      "session.load_document(document)"
     ],
     "language": "python",
     "metadata": {},
     "outputs": [
      {
       "output_type": "stream",
       "stream": "stdout",
       "text": [
        "Using saved session configuration for http://localhost:5006/\n",
        "To override, pass 'load_from_config=False' to Session\n"
       ]
      }
     ],
     "prompt_number": 5
    },
    {
     "cell_type": "code",
     "collapsed": false,
     "input": [
      "xs = sy.Symbol('x')\n",
      "expr = sy.exp(-xs)*sy.sin(xs)\n",
      "order = 1\n",
      "\n",
      "def taylor(fx, xs, order, x_range=(0, 1), n=200):\n",
      "    x0, x1 = x_range\n",
      "    x = np.linspace(float(x0), float(x1), n)\n",
      "\n",
      "    fy = sy.lambdify(xs, fx, modules=['numpy'])(x)\n",
      "    tx = fx.series(xs, n=order).removeO()\n",
      "\n",
      "    if tx.is_Number:\n",
      "        ty = np.zeros_like(x)\n",
      "        ty.fill(float(tx))\n",
      "    else:\n",
      "        ty = sy.lambdify(xs, tx, modules=['numpy'])(x)\n",
      "\n",
      "    return x, fy, ty\n",
      "\n",
      "def update_data():\n",
      "    x, fy, ty = taylor(expr, xs, order, (-2*sy.pi, 2*sy.pi), 200)\n",
      "\n",
      "    plot.title = \"%s vs. taylor(%s, n=%d)\" % (expr, expr, order)\n",
      "    legend.legends = {\n",
      "        \"%s\"         % expr: [line_f_glyph],\n",
      "        \"taylor(%s)\" % expr: [line_t_glyph],\n",
      "    }\n",
      "    source.data = dict(x=x, fy=fy, ty=ty)\n",
      "    slider.value = order\n",
      "\n",
      "    session.store_document(document)\n",
      "\n",
      "source = ColumnDataSource(data=dict(\n",
      "    x  = [],\n",
      "    fy = [],\n",
      "    ty = [],\n",
      "))"
     ],
     "language": "python",
     "metadata": {},
     "outputs": [],
     "prompt_number": 6
    },
    {
     "cell_type": "code",
     "collapsed": false,
     "input": [
      "xdr = DataRange1d(sources=[source.columns(\"x\")])\n",
      "ydr = DataRange1d(sources=[source.columns(\"fy\")])"
     ],
     "language": "python",
     "metadata": {},
     "outputs": [],
     "prompt_number": 7
    },
    {
     "cell_type": "code",
     "collapsed": false,
     "input": [
      "plot = Plot(data_sources=[source], x_range=xdr, y_range=ydr, plot_width=800, plot_height=400)"
     ],
     "language": "python",
     "metadata": {},
     "outputs": [],
     "prompt_number": 8
    },
    {
     "cell_type": "code",
     "collapsed": false,
     "input": [
      "line_f = Line(x=\"x\", y=\"fy\", line_color=\"blue\", line_width=2)\n",
      "line_f_glyph = Glyph(data_source=source, xdata_range=xdr, ydata_range=ydr, glyph=line_f)\n",
      "plot.add_obj(line_f_glyph)\n",
      "\n",
      "line_t = Line(x=\"x\", y=\"ty\", line_color=\"red\", line_width=2)\n",
      "line_t_glyph = Glyph(data_source=source, xdata_range=xdr, ydata_range=ydr, glyph=line_t)\n",
      "plot.add_obj(line_t_glyph)"
     ],
     "language": "python",
     "metadata": {},
     "outputs": [],
     "prompt_number": 9
    },
    {
     "cell_type": "code",
     "collapsed": false,
     "input": [
      "xaxis = LinearAxis()\n",
      "plot.add_obj(xaxis, 'below')\n",
      "\n",
      "yaxis = LinearAxis()\n",
      "plot.add_obj(yaxis, 'left')"
     ],
     "language": "python",
     "metadata": {},
     "outputs": [],
     "prompt_number": 10
    },
    {
     "cell_type": "code",
     "collapsed": false,
     "input": [
      "plot.add_obj(Grid(dimension=0, ticker=xaxis.ticker))\n",
      "plot.add_obj(Grid(dimension=1, ticker=yaxis.ticker))"
     ],
     "language": "python",
     "metadata": {},
     "outputs": [],
     "prompt_number": 11
    },
    {
     "cell_type": "code",
     "collapsed": false,
     "input": [
      "legend = Legend(orientation=\"bottom_left\")\n",
      "plot.add_obj(legend)"
     ],
     "language": "python",
     "metadata": {},
     "outputs": [],
     "prompt_number": 12
    },
    {
     "cell_type": "code",
     "collapsed": false,
     "input": [
      "def on_slider_value_change(obj, attr, old, new):\n",
      "    global order\n",
      "    order = int(new)\n",
      "    update_data()\n",
      "\n",
      "def on_text_value_change(obj, attr, old, new):\n",
      "    try:\n",
      "        global expr\n",
      "        expr = sy.sympify(new, dict(x=xs))\n",
      "    except (sy.SympifyError, TypeError, ValueError) as exception:\n",
      "        dialog.content = str(exception)\n",
      "        dialog.visible = True\n",
      "        session.store_document(document)\n",
      "    else:\n",
      "        update_data()\n",
      "\n",
      "dialog = Dialog(title=\"Invalid expression\", buttons=[\"Close\"])\n",
      "\n",
      "slider = Slider(start=1, end=20, value=order, step=1, title=\"Order:\")\n",
      "slider.on_change('value', on_slider_value_change)\n",
      "\n",
      "text = TextInput(value=str(expr), title=\"Expression:\")\n",
      "text.on_change('value', on_text_value_change)\n",
      "\n",
      "inputs = HBox(children=[slider, text])\n",
      "layout = VBox(children=[inputs, plot, dialog])\n",
      "\n",
      "document.add(layout)"
     ],
     "language": "python",
     "metadata": {},
     "outputs": [],
     "prompt_number": 13
    },
    {
     "cell_type": "code",
     "collapsed": false,
     "input": [
      "update_data()"
     ],
     "language": "python",
     "metadata": {},
     "outputs": [],
     "prompt_number": 14
    },
    {
     "cell_type": "code",
     "collapsed": false,
     "input": [
      "session.show(layout)"
     ],
     "language": "python",
     "metadata": {},
     "outputs": [
      {
       "html": [
        "<script\n",
        "    src=\"http://localhost:5006/bokeh/autoload.js/93d55ea2-28af-4c10-b136-28a52442fbe2\"\n",
        "    id=\"93d55ea2-28af-4c10-b136-28a52442fbe2\"\n",
        "    async=\"true\"\n",
        "    data-bokeh-data=\"server\"\n",
        "    data-bokeh-modelid=\"c1d0279e-58c8-435d-a4e2-d0f25eebc48d\"\n",
        "    data-bokeh-modeltype=\"VBox\"\n",
        "    data-bokeh-root-url=\"http://localhost:5006/\"\n",
        "    data-bokeh-docid=\"1ebe9b57-d63a-4a10-bf46-84f8b393c10d\"\n",
        "    data-bokeh-docapikey=\"fcb3ff7f-2826-4480-861b-a9decb5d5862\"\n",
        "    data-bokeh-conn-string=\"ws://localhost:5006/bokeh/sub\"\n",
        "></script>\n"
       ],
       "metadata": {},
       "output_type": "display_data"
      }
     ],
     "prompt_number": 15
    },
    {
     "cell_type": "code",
     "collapsed": false,
     "input": [
      "import time\n",
      "\n",
      "try:\n",
      "    while True:\n",
      "        session.load_document(document)\n",
      "        time.sleep(0.1)\n",
      "except KeyboardInterrupt:\n",
      "    pass"
     ],
     "language": "python",
     "metadata": {},
     "outputs": []
    },
    {
     "cell_type": "code",
     "collapsed": false,
     "input": [],
     "language": "python",
     "metadata": {},
     "outputs": []
    }
   ],
   "metadata": {}
  }
 ]
}