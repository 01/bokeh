{
 "metadata": {
  "name": "",
  "signature": "sha256:f7d72c3738d391f883a8c863a74e43196c3b2bdb484020d896ca6f62569803d6"
 },
 "nbformat": 3,
 "nbformat_minor": 0,
 "worksheets": [
  {
   "cells": [
    {
     "cell_type": "code",
     "collapsed": false,
     "input": [
      "from collections import OrderedDict\n",
      "\n",
      "import numpy as np\n",
      "from bokeh.charts import Histogram\n",
      "\n",
      "mu, sigma = 0, 0.5\n",
      "normal = np.random.normal(mu, sigma, 1000)\n",
      "\n",
      "value = OrderedDict(normal=normal)\n",
      "\n",
      "hist = Histogram(value, bins=50, mu=mu, sigma=sigma,\n",
      "                 title=\"hist, kwargs, dict_input\", yname=\"frequency\", legend=\"top_left\",\n",
      "                 width=400, height=350, notebook=True)\n",
      "hist.draw()"
     ],
     "language": "python",
     "metadata": {},
     "outputs": []
    },
    {
     "cell_type": "code",
     "collapsed": false,
     "input": [
      "import pandas as pd\n",
      "df = pd.DataFrame(value)\n",
      "\n",
      "hist = Histogram(df, bins=50, mu=mu, sigma=sigma,\n",
      "                 title=\"kwarg_title\", yname=\"frequency\", \n",
      "                 width=400, height=350, notebook=True)\n",
      "hist.legend(\"top_left\").draw()"
     ],
     "language": "python",
     "metadata": {},
     "outputs": []
    },
    {
     "cell_type": "code",
     "collapsed": false,
     "input": [
      "from collections import OrderedDict\n",
      "\n",
      "import numpy as np\n",
      "from bokeh.charts import Histogram\n",
      "\n",
      "mu, sigma = 0, 0.5\n",
      "normal = np.random.normal(mu, sigma, 1000)\n",
      "lognormal = np.random.lognormal(mu, sigma, 1000)\n",
      "\n",
      "value = OrderedDict(normal=normal, lognormal=lognormal)\n",
      "\n",
      "hist = Histogram(value, bins=50, notebook=True)\n",
      "hist.title(\"title_chain\").yname(\"frequency\").legend(True).width(400).height(350).draw()"
     ],
     "language": "python",
     "metadata": {},
     "outputs": []
    },
    {
     "cell_type": "code",
     "collapsed": false,
     "input": [
      "import pandas as pd\n",
      "df = pd.DataFrame(value)\n",
      "\n",
      "hist = Histogram(df, bins=50, notebook=True)\n",
      "hist.title(\"title_chain\").yname(\"frequency\").width(400).height(350).draw()"
     ],
     "language": "python",
     "metadata": {},
     "outputs": []
    },
    {
     "cell_type": "code",
     "collapsed": false,
     "input": [
      "from collections import OrderedDict\n",
      "\n",
      "import numpy as np\n",
      "\n",
      "from bokeh.charts import Bar\n",
      "from bokeh.sampledata.olympics2014 import data\n",
      "\n",
      "data = {d['abbr']: d['medals'] for d in data['data'] if d['medals']['total'] > 0}\n",
      "\n",
      "countries = sorted(data.keys(), key=lambda x: data[x]['total'], reverse=True)\n",
      "\n",
      "gold = np.array([data[abbr]['gold'] for abbr in countries], dtype=np.float)\n",
      "silver = np.array([data[abbr]['silver'] for abbr in countries], dtype=np.float)\n",
      "bronze = np.array([data[abbr]['bronze'] for abbr in countries], dtype=np.float)\n",
      "\n",
      "value = OrderedDict(bronze=bronze, silver=silver, gold=gold)\n",
      "\n",
      "bar = Bar(value, countries, title=\"Grouped\", xname=\"countries\", yname=\"medals\", \n",
      "          legend=True, width=800, height=600, notebook=True)\n",
      "bar.draw()"
     ],
     "language": "python",
     "metadata": {},
     "outputs": []
    },
    {
     "cell_type": "code",
     "collapsed": true,
     "input": [
      "import pandas as pd\n",
      "df = pd.DataFrame(value, index=countries)\n",
      "\n",
      "bar = Bar(df, title=\"Grouped\",xname=\"countries\", yname=\"medals\", legend=True, width=800, height=600, notebook=True)\n",
      "bar.draw()"
     ],
     "language": "python",
     "metadata": {},
     "outputs": []
    },
    {
     "cell_type": "code",
     "collapsed": false,
     "input": [
      "from collections import OrderedDict\n",
      "\n",
      "import numpy as np\n",
      "\n",
      "from bokeh.charts import Bar\n",
      "from bokeh.sampledata.olympics2014 import data\n",
      "\n",
      "data = {d['abbr']: d['medals'] for d in data['data'] if d['medals']['total'] > 0}\n",
      "\n",
      "countries = sorted(data.keys(), key=lambda x: data[x]['total'], reverse=True)\n",
      "\n",
      "gold = np.array([data[abbr]['gold'] for abbr in countries], dtype=np.float)\n",
      "silver = np.array([data[abbr]['silver'] for abbr in countries], dtype=np.float)\n",
      "bronze = np.array([data[abbr]['bronze'] for abbr in countries], dtype=np.float)\n",
      "\n",
      "values = OrderedDict(bronze=bronze, silver=silver, gold=gold)\n",
      "\n",
      "bar = Bar(values, countries)\n",
      "bar.title(\"Stacked\").xname(\"countries\").yname(\"medals\").legend(True).width(600).height(400).stacked().notebook().draw()"
     ],
     "language": "python",
     "metadata": {},
     "outputs": []
    },
    {
     "cell_type": "code",
     "collapsed": false,
     "input": [
      "import pandas as pd\n",
      "df = pd.DataFrame(value, index=countries)\n",
      "\n",
      "bar = Bar(df)\n",
      "bar.title(\"Stacked\").xname(\"countries\").yname(\"medals\").legend(True).width(600).height(400).stacked().notebook().draw()"
     ],
     "language": "python",
     "metadata": {},
     "outputs": []
    },
    {
     "cell_type": "code",
     "collapsed": false,
     "input": [
      "from collections import OrderedDict\n",
      "\n",
      "from bokeh.charts import Scatter\n",
      "from bokeh.sampledata.iris import flowers\n",
      "\n",
      "setosa = flowers[(flowers.species == \"setosa\")][[\"petal_length\", \"petal_width\"]]\n",
      "versicolor = flowers[(flowers.species == \"versicolor\")][[\"petal_length\", \"petal_width\"]]\n",
      "virginica = flowers[(flowers.species == \"virginica\")][[\"petal_length\", \"petal_width\"]]\n",
      "\n",
      "values = OrderedDict([(\"setosa\", setosa.values), (\"versicolor\", versicolor.values), (\"virginica\", virginica.values)])\n",
      "\n",
      "scatter = Scatter(values)\n",
      "scatter.title(\"Iris\").xname(\"petal_length\").yname(\"petal_width\").legend(\"top_left\").width(600).height(400).notebook().draw()"
     ],
     "language": "python",
     "metadata": {},
     "outputs": []
    },
    {
     "cell_type": "code",
     "collapsed": false,
     "input": [
      "import pandas as pd\n",
      "\n",
      "values = OrderedDict([(\"setosa\", setosa), (\"versicolor\", versicolor), (\"virginica\", virginica)])\n",
      "df = pd.concat(values, axis=1, names=[\"l0\", \"l1\"])\n",
      "\n",
      "scatter = Scatter(df)\n",
      "scatter.title(\"Iris\").xname(\"petal_length\").yname(\"petal_width\").legend(\"top_left\").width(600).height(400).notebook().draw()"
     ],
     "language": "python",
     "metadata": {},
     "outputs": []
    },
    {
     "cell_type": "code",
     "collapsed": false,
     "input": [
      "from bokeh.charts import Scatter\n",
      "from bokeh.sampledata.iris import flowers\n",
      "\n",
      "df = flowers[[\"petal_length\", \"petal_width\", \"species\"]]\n",
      "g = df.groupby(\"species\")\n",
      "\n",
      "scatter = Scatter(g)\n",
      "scatter.title(\"Iris\").xname(\"petal_length\").yname(\"petal_width\").legend(\"top_left\").width(600).height(400).notebook().draw()"
     ],
     "language": "python",
     "metadata": {},
     "outputs": []
    },
    {
     "cell_type": "code",
     "collapsed": false,
     "input": [],
     "language": "python",
     "metadata": {},
     "outputs": []
    },
    {
     "cell_type": "code",
     "collapsed": false,
     "input": [],
     "language": "python",
     "metadata": {},
     "outputs": []
    },
    {
     "cell_type": "code",
     "collapsed": false,
     "input": [],
     "language": "python",
     "metadata": {},
     "outputs": []
    }
   ],
   "metadata": {}
  }
 ]
}