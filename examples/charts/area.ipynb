{
 "metadata": {
  "name": "",
  "signature": "sha256:3b78bd58c6a9e2f202c60946de3083fc08f695422c7aac906e47eb57ec5f40fc"
 },
 "nbformat": 3,
 "nbformat_minor": 0,
 "worksheets": [
  {
   "cells": [
    {
     "cell_type": "code",
     "collapsed": false,
     "input": [
      "import bokeh\n",
      "bokeh.load_notebook()"
     ],
     "language": "python",
     "metadata": {},
     "outputs": []
    },
    {
     "cell_type": "code",
     "collapsed": false,
     "input": [
      "from collections import OrderedDict\n",
      "\n",
      "import numpy as np\n",
      "\n",
      "from bokeh.charts import Area\n",
      "\n",
      "# create some example data\n",
      "xyvalues = OrderedDict(\n",
      "    python=[2, 3, 7, 5, 26, 221, 44, 233, 254, 265, 266, 267, 120, 111],\n",
      "    pypy=[12, 33, 47, 15, 126, 121, 144, 233, 254, 225, 226, 267, 110, 130],\n",
      "    jython=[22, 43, 10, 25, 26, 101, 114, 203, 194, 215, 201, 227, 139, 160],\n",
      ")\n",
      "\n",
      "# create an area chart\n",
      "area = Area(\n",
      "    xyvalues, title=\"Area Chart\",\n",
      "    ylabel='Performance', facet=False, stacked=True, notebook=True,\n",
      ")\n",
      "area.legend(\"top_left\").show()\n"
     ],
     "language": "python",
     "metadata": {},
     "outputs": []
    },
    {
     "cell_type": "code",
     "collapsed": false,
     "input": [
      "area.stacked(False)\n",
      "area.legend(\"top_left\").show()"
     ],
     "language": "python",
     "metadata": {},
     "outputs": []
    },
    {
     "cell_type": "code",
     "collapsed": false,
     "input": [
      "# create an area chart\n",
      "df = pd.DataFrame(xyvalues)\n",
      "area = Area(\n",
      "    df, title=\"Area Chart\",\n",
      "    ylabel='Performance', facet=False, stacked=True, notebook=True,\n",
      ")\n",
      "area.legend(\"top_left\").show()"
     ],
     "language": "python",
     "metadata": {},
     "outputs": []
    },
    {
     "cell_type": "code",
     "collapsed": false,
     "input": [
      "area = Area(\n",
      "    list(xyvalues.values()), title=\"Area Chart\",\n",
      "    ylabel='Performance', facet=False, stacked=True, notebook=True,\n",
      ")\n",
      "area.legend(\"top_left\").show()"
     ],
     "language": "python",
     "metadata": {},
     "outputs": []
    },
    {
     "cell_type": "code",
     "collapsed": false,
     "input": [],
     "language": "python",
     "metadata": {},
     "outputs": []
    }
   ],
   "metadata": {}
  }
 ]
}