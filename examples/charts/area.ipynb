{
 "metadata": {
  "name": "",
  "signature": "sha256:b526e17bf2c11788c690fe5d0fa2092e99326d3ecd6858c29d49418a4f104365"
 },
 "nbformat": 3,
 "nbformat_minor": 0,
 "worksheets": [
  {
   "cells": [
    {
     "cell_type": "code",
     "collapsed": false,
     "input": [
      "import bokeh\n",
      "bokeh.load_notebook()"
     ],
     "language": "python",
     "metadata": {},
     "outputs": []
    },
    {
     "cell_type": "code",
     "collapsed": false,
     "input": [
      "from collections import OrderedDict\n",
      "from bokeh.charts import Area\n",
      "\n",
      "# create some example data\n",
      "xyvalues = OrderedDict(\n",
      "    python=[2, 3, 7, 5, 26, 221, 44, 233, 254, 265, 266, 267, 120, 111],\n",
      "    pypy=[12, 33, 47, 15, 126, 121, 144, 233, 254, 225, 226, 267, 110, 130],\n",
      "    jython=[22, 43, 10, 25, 26, 101, 114, 203, 194, 215, 201, 227, 139, 160],\n",
      ")\n",
      "\n",
      "# create an area chart\n",
      "area = Area(\n",
      "    xyvalues, title=\"Area Chart\", xlabel='time',\n",
      "    ylabel='memory', notebook=True,\n",
      "    facet=False, stacked=True,\n",
      ")\n",
      "area.legend(\"top_left\").show()\n"
     ],
     "language": "python",
     "metadata": {},
     "outputs": []
    },
    {
     "cell_type": "code",
     "collapsed": false,
     "input": [
      "area.stacked(False).legend(\"top_left\").show()"
     ],
     "language": "python",
     "metadata": {},
     "outputs": []
    },
    {
     "cell_type": "code",
     "collapsed": false,
     "input": [
      "area.facet()\n",
      "area.legend(\"top_left\").show()"
     ],
     "language": "python",
     "metadata": {},
     "outputs": []
    },
    {
     "cell_type": "code",
     "collapsed": false,
     "input": [
      "# create an area chart\n",
      "import pandas as pd\n",
      "df = pd.DataFrame(xyvalues)\n",
      "area = Area(\n",
      "    df, title=\"Area Chart\",\n",
      "    ylabel='Performance', facet=False, notebook=True,\n",
      ")\n",
      "area.legend(\"top_left\").show()"
     ],
     "language": "python",
     "metadata": {},
     "outputs": []
    },
    {
     "cell_type": "code",
     "collapsed": false,
     "input": [
      "area = Area(\n",
      "    list(xyvalues.values()), title=\"Area Chart\",\n",
      "    ylabel='Performance', facet=False, notebook=True,\n",
      ")\n",
      "area.legend(\"top_left\").show()"
     ],
     "language": "python",
     "metadata": {},
     "outputs": []
    },
    {
     "cell_type": "code",
     "collapsed": false,
     "input": [],
     "language": "python",
     "metadata": {},
     "outputs": []
    }
   ],
   "metadata": {}
  }
 ]
}