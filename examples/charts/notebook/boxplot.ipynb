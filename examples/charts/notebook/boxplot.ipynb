{
 "metadata": {
  "name": "",
  "signature": "sha256:8eb499360598eef63377d0c6d22f9d69433dbbbf302459e1c901c9abb718e8cf"
 },
 "nbformat": 3,
 "nbformat_minor": 0,
 "worksheets": [
  {
   "cells": [
    {
     "cell_type": "code",
     "collapsed": false,
     "input": [
      "from collections import OrderedDict\n",
      "import numpy as np\n",
      "from bokeh.charts import BoxPlot, output_notebook, show\n",
      "from bokeh.sampledata.olympics2014 import data\n",
      "output_notebook()"
     ],
     "language": "python",
     "metadata": {},
     "outputs": []
    },
    {
     "cell_type": "code",
     "collapsed": false,
     "input": [
      "data = {d['abbr']: d['medals'] for d in data['data'] if d['medals']['total'] > 0}\n",
      "\n",
      "countries = sorted(data.keys(), key=lambda x: data[x]['total'], reverse=True)\n",
      "\n",
      "gold = np.array([data[abbr]['gold'] for abbr in countries], dtype=np.float)\n",
      "silver = np.array([data[abbr]['silver'] for abbr in countries], dtype=np.float)\n",
      "bronze = np.array([data[abbr]['bronze'] for abbr in countries], dtype=np.float)\n",
      "\n",
      "medals = OrderedDict(bronze=bronze, silver=silver, gold=gold, fake=gold)"
     ],
     "language": "python",
     "metadata": {},
     "outputs": []
    },
    {
     "cell_type": "code",
     "collapsed": false,
     "input": [
      "boxplot = BoxPlot(\n",
      "    medals, title=\"boxplot, dict input\", xlabel=\"medal type\", ylabel=\"medal count\", \n",
      "    width=600, height=400, marker=\"circle\", outliers=True)\n",
      "show(boxplot)"
     ],
     "language": "python",
     "metadata": {},
     "outputs": []
    },
    {
     "cell_type": "code",
     "collapsed": false,
     "input": [
      "from blaze import Data\n",
      "from pandas import DataFrame\n",
      "from bokeh.plotting import output_notebook, show\n",
      "\n",
      "bmedals = Data(DataFrame(medals), fields=['bronze', 'silver', 'gold', 'FAKE'])\n",
      "boxplot = BoxPlot(bmedals, title=\"boxplot, blaze input\", xlabel=\"medal type\", ylabel=\"medal count\", \n",
      "             width=800, height=600, notebook=True, marker=\"circle\", outliers=True)\n",
      "output_notebook()\n",
      "show(boxplot)"
     ],
     "language": "python",
     "metadata": {},
     "outputs": []
    },
    {
     "cell_type": "code",
     "collapsed": false,
     "input": [],
     "language": "python",
     "metadata": {},
     "outputs": []
    }
   ],
   "metadata": {}
  }
 ]
}