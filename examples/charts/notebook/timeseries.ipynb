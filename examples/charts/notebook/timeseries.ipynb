{
 "metadata": {
  "name": "",
  "signature": "sha256:93ce7f1ea195eb4f475f557316fb6683f88903abb73ba92fef631d03f1edfe5b"
 },
 "nbformat": 3,
 "nbformat_minor": 0,
 "worksheets": [
  {
   "cells": [
    {
     "cell_type": "code",
     "collapsed": false,
     "input": [
      "from collections import OrderedDict\n",
      "import pandas as pd\n",
      "from bokeh.charts import TimeSeries\n",
      "from bokeh.io import output_notebook, show\n",
      "output_notebook()"
     ],
     "language": "python",
     "metadata": {},
     "outputs": []
    },
    {
     "cell_type": "code",
     "collapsed": false,
     "input": [
      "# read in some stock data from the Yahoo Finance API\n",
      "AAPL = pd.read_csv(\n",
      "    \"http://ichart.yahoo.com/table.csv?s=AAPL&a=0&b=1&c=2000&d=0&e=1&f=2010\",\n",
      "    parse_dates=['Date'])\n",
      "MSFT = pd.read_csv(\n",
      "    \"http://ichart.yahoo.com/table.csv?s=MSFT&a=0&b=1&c=2000&d=0&e=1&f=2010\",\n",
      "    parse_dates=['Date'])\n",
      "IBM = pd.read_csv(\n",
      "    \"http://ichart.yahoo.com/table.csv?s=IBM&a=0&b=1&c=2000&d=0&e=1&f=2010\",\n",
      "    parse_dates=['Date'])\n",
      "\n",
      "xyvalues = OrderedDict(\n",
      "    AAPL=AAPL['Adj Close'],\n",
      "    Date=AAPL['Date'],\n",
      "    MSFT=MSFT['Adj Close'],\n",
      "    IBM=IBM['Adj Close'],\n",
      ")"
     ],
     "language": "python",
     "metadata": {},
     "outputs": []
    },
    {
     "cell_type": "code",
     "collapsed": false,
     "input": [
      "ts = TimeSeries(\n",
      "    xyvalues, index='Date', title=\"timeseries, dict input\", \n",
      "    legend='top_left', ylabel='Stock Prices')\n",
      "show(ts)"
     ],
     "language": "python",
     "metadata": {},
     "outputs": []
    },
    {
     "cell_type": "code",
     "collapsed": false,
     "input": [
      "df = pd.DataFrame(xyvalues)\n",
      "ts = TimeSeries(\n",
      "    df, index='Date', title=\"timeseries, pandas input\", \n",
      "    legend='top_left', ylabel='Stock Prices')\n",
      "show(ts)"
     ],
     "language": "python",
     "metadata": {},
     "outputs": []
    },
    {
     "cell_type": "code",
     "collapsed": false,
     "input": [
      "lindex = xyvalues.pop('Date')\n",
      "lxyvalues = list(xyvalues.values())\n",
      "ts = TimeSeries(\n",
      "    lxyvalues, index=lindex, title=\"timeseries, list input\", \n",
      "    ylabel='Stock Prices: 1-AAPL, 2-IBM, 3-MSFT', legend='top_left')\n",
      "show(ts)"
     ],
     "language": "python",
     "metadata": {},
     "outputs": []
    },
    {
     "cell_type": "code",
     "collapsed": false,
     "input": [
      "from blaze import Data\n",
      "\n",
      "b = Data(df)\n",
      "ts = TimeSeries(b, index='Date', title=\"timeseries, pd_input\", ylabel='Stock Prices: 1-AAPL, 2-IBM, 3-MSFT', legend='top_left')\n",
      "show(ts)"
     ],
     "language": "python",
     "metadata": {},
     "outputs": []
    },
    {
     "cell_type": "code",
     "collapsed": false,
     "input": [],
     "language": "python",
     "metadata": {},
     "outputs": []
    }
   ],
   "metadata": {}
  }
 ]
}