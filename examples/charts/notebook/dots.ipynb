{
 "metadata": {
  "name": "",
  "signature": "sha256:71baeeb68b396780cea8ffde6fe930c0cdc61965eb0527ba558bb2094ee9fda4"
 },
 "nbformat": 3,
 "nbformat_minor": 0,
 "worksheets": [
  {
   "cells": [
    {
     "cell_type": "code",
     "collapsed": false,
     "input": [
      "from collections import OrderedDict\n",
      "import pandas as pd\n",
      "import numpy as np\n",
      "from bokeh.charts import Dot, output_notebook, show"
     ],
     "language": "python",
     "metadata": {},
     "outputs": []
    },
    {
     "cell_type": "code",
     "collapsed": false,
     "input": [
      "output_notebook()"
     ],
     "language": "python",
     "metadata": {},
     "outputs": []
    },
    {
     "cell_type": "code",
     "collapsed": false,
     "input": [
      "# create some example data\n",
      "xyvalues = OrderedDict(\n",
      "    python=[2, 3, 7, 5, 26],\n",
      "    pypy=[12, 33, 47, 15, 126],\n",
      "    jython=[22, 43, 10, 25, 26],\n",
      ")"
     ],
     "language": "python",
     "metadata": {},
     "outputs": []
    },
    {
     "cell_type": "code",
     "collapsed": false,
     "input": [
      "dots = Dot(\n",
      "    xyvalues, cat=['lists','loops','dicts', 'gen exp', 'exceptions'],\n",
      "    title=\"Dots Example, dict input\", ylabel='Performance', legend='top_left')\n",
      "show(dots)"
     ],
     "language": "python",
     "metadata": {},
     "outputs": []
    },
    {
     "cell_type": "code",
     "collapsed": false,
     "input": [
      "df = pd.DataFrame(xyvalues)\n",
      "dots = Dot(\n",
      "    df, cat=['lists','loops','dicts', 'gen exp', 'exceptions'],\n",
      "    title=\"Dots Example, pandas input\", ylabel='Performance', legend='top_left')\n",
      "show(dots)"
     ],
     "language": "python",
     "metadata": {},
     "outputs": []
    },
    {
     "cell_type": "code",
     "collapsed": false,
     "input": [
      "lxyvalues = list(xyvalues.values())\n",
      "dots = Dot(\n",
      "    lxyvalues, cat=['lists','loops','dicts', 'gen exp', 'exceptions'],\n",
      "    title=\"Dots Example, list input\", ylabel='Performance', legend='top_left')\n",
      "show(dots)"
     ],
     "language": "python",
     "metadata": {},
     "outputs": []
    },
    {
     "cell_type": "code",
     "collapsed": false,
     "input": [
      "from blaze import Data\n",
      "from bokeh.plotting import output_notebook, show\n",
      "output_notebook()\n",
      "bxyvalues = Data(df, fields=[\"A\", \"B\", \"C\"])\n",
      "dots = Dot(bxyvalues, cat=['lists','loops','dicts', 'gen exp', 'exceptions'],\n",
      "         title=\"Dots Example\", ylabel='Performance', notebook=True)\n",
      "show(dots)"
     ],
     "language": "python",
     "metadata": {},
     "outputs": []
    },
    {
     "cell_type": "code",
     "collapsed": false,
     "input": [],
     "language": "python",
     "metadata": {},
     "outputs": []
    }
   ],
   "metadata": {}
  }
 ]
}