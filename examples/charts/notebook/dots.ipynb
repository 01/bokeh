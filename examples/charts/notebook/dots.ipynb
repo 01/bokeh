{
 "cells": [
  {
   "cell_type": "code",
   "execution_count": null,
   "metadata": {
    "collapsed": false
   },
   "outputs": [],
   "source": [
    "import pandas as pd\n",
    "import numpy as np\n",
    "from bokeh._legacy_charts import Dot, output_notebook, show"
   ]
  },
  {
   "cell_type": "code",
   "execution_count": null,
   "metadata": {
    "collapsed": false
   },
   "outputs": [],
   "source": [
    "output_notebook()"
   ]
  },
  {
   "cell_type": "code",
   "execution_count": null,
   "metadata": {
    "collapsed": false
   },
   "outputs": [],
   "source": [
    "# create some example data\n",
    "data = dict(\n",
    "    python=[2, 3, 7, 5, 26],\n",
    "    pypy=[12, 33, 47, 15, 126],\n",
    "    jython=[22, 43, 10, 25, 26],\n",
    ")"
   ]
  },
  {
   "cell_type": "code",
   "execution_count": null,
   "metadata": {
    "collapsed": false
   },
   "outputs": [],
   "source": [
    "dots = Dot(\n",
    "    data, cat=['lists','loops','dicts', 'gen exp', 'exceptions'],\n",
    "    title=\"Dots Example, dict input\", ylabel='Performance', legend='top_left')\n",
    "show(dots)"
   ]
  },
  {
   "cell_type": "code",
   "execution_count": null,
   "metadata": {
    "collapsed": false
   },
   "outputs": [],
   "source": [
    "df = pd.DataFrame(data)\n",
    "dots = Dot(\n",
    "    df, cat=['lists','loops','dicts', 'gen exp', 'exceptions'],\n",
    "    title=\"Dots Example, pandas input\", ylabel='Performance', legend='top_left')\n",
    "show(dots)"
   ]
  },
  {
   "cell_type": "code",
   "execution_count": null,
   "metadata": {
    "collapsed": false
   },
   "outputs": [],
   "source": [
    "ldata = list(data.values())\n",
    "dots = Dot(\n",
    "    ldata, cat=['lists','loops','dicts', 'gen exp', 'exceptions'],\n",
    "    title=\"Dots Example, list input\", ylabel='Performance', legend='top_left')\n",
    "show(dots)"
   ]
  },
  {
   "cell_type": "code",
   "execution_count": null,
   "metadata": {
    "collapsed": false
   },
   "outputs": [],
   "source": []
  }
 ],
 "metadata": {
  "kernelspec": {
   "display_name": "Python 3",
   "language": "python",
   "name": "python3"
  },
  "language_info": {
   "codemirror_mode": {
    "name": "ipython",
    "version": 3
   },
   "file_extension": ".py",
   "mimetype": "text/x-python",
   "name": "python",
   "nbconvert_exporter": "python",
   "pygments_lexer": "ipython3",
   "version": "3.4.3"
  }
 },
 "nbformat": 4,
 "nbformat_minor": 0
}
