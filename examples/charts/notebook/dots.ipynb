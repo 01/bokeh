{
 "metadata": {
  "name": "",
  "signature": "sha256:6b756dc98e575e592f2097b791729e942e068a66467f3385e4e67f218b538f65"
 },
 "nbformat": 3,
 "nbformat_minor": 0,
 "worksheets": [
  {
   "cells": [
    {
     "cell_type": "code",
     "collapsed": false,
     "input": [
      "import bokeh\n",
      "bokeh.load_notebook()"
     ],
     "language": "python",
     "metadata": {},
     "outputs": []
    },
    {
     "cell_type": "code",
     "collapsed": false,
     "input": [
      "from collections import OrderedDict\n",
      "import pandas as pd\n",
      "import numpy as np\n",
      "from bokeh.charts import Dot\n",
      "\n",
      "# create some example data\n",
      "xyvalues = OrderedDict(\n",
      "    python=[2, 3, 7, 5, 26],\n",
      "    pypy=[12, 33, 47, 15, 126],\n",
      "    jython=[22, 43, 10, 25, 26],\n",
      ")\n",
      "\n",
      "dots = Dot(xyvalues, cat=['lists','loops','dicts', 'gen exp', 'exceptions'],\n",
      "         title=\"Dots Example\", ylabel='Performance', notebook=True, legend='top_left')\n",
      "dots.show()\n"
     ],
     "language": "python",
     "metadata": {},
     "outputs": []
    },
    {
     "cell_type": "code",
     "collapsed": false,
     "input": [
      "import pandas as pd\n",
      "\n",
      "df = pd.DataFrame(xyvalues)\n",
      "dots = Dot(df, cat=['lists','loops','dicts', 'gen exp', 'exceptions'],\n",
      "         title=\"Dots Example\", ylabel='Performance', notebook=True, legend='top_left')\n",
      "dots.show()"
     ],
     "language": "python",
     "metadata": {},
     "outputs": []
    },
    {
     "cell_type": "code",
     "collapsed": false,
     "input": [
      "from bokeh.plotting import output_notebook, show\n",
      "\n",
      "output_notebook()\n",
      "lxyvalues = list(xyvalues.values())\n",
      "\n",
      "dots = Dot(lxyvalues, cat=['lists','loops','dicts', 'gen exp', 'exceptions'],\n",
      "         title=\"Dots Example\", ylabel='Performance', notebook=True)\n",
      "show(dots)"
     ],
     "language": "python",
     "metadata": {},
     "outputs": []
    },
    {
     "cell_type": "code",
     "collapsed": false,
     "input": [
      "from blaze import Data\n",
      "from bokeh.plotting import output_notebook, show\n",
      "output_notebook()\n",
      "bxyvalues = Data(xyvalues)\n",
      "dots = Dot(bxyvalues, cat=['lists','loops','dicts', 'gen exp', 'exceptions'],\n",
      "         title=\"Dots Example\", ylabel='Performance', notebook=True)\n",
      "show(dots)"
     ],
     "language": "python",
     "metadata": {},
     "outputs": []
    },
    {
     "cell_type": "code",
     "collapsed": false,
     "input": [],
     "language": "python",
     "metadata": {},
     "outputs": []
    }
   ],
   "metadata": {}
  }
 ]
}