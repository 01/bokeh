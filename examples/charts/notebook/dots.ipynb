{
 "metadata": {
  "name": "",
  "signature": "sha256:39ef975e06b5042857c107d94c02a70a8d6bbcb4bf7f9b2a0a73941c6e495adf"
 },
 "nbformat": 3,
 "nbformat_minor": 0,
 "worksheets": [
  {
   "cells": [
    {
     "cell_type": "code",
     "collapsed": false,
     "input": [
      "from collections import OrderedDict\n",
      "\n",
      "import pandas as pd\n",
      "import numpy as np\n",
      "\n",
      "from bokeh.charts import Dot, output_notebook, show"
     ],
     "language": "python",
     "metadata": {},
     "outputs": []
    },
    {
     "cell_type": "code",
     "collapsed": false,
     "input": [
      "output_notebook()"
     ],
     "language": "python",
     "metadata": {},
     "outputs": []
    },
    {
     "cell_type": "code",
     "collapsed": false,
     "input": [
      "# create some example data\n",
      "xyvalues = OrderedDict(\n",
      "    python=[2, 3, 7, 5, 26],\n",
      "    pypy=[12, 33, 47, 15, 126],\n",
      "    jython=[22, 43, 10, 25, 26],\n",
      ")"
     ],
     "language": "python",
     "metadata": {},
     "outputs": []
    },
    {
     "cell_type": "code",
     "collapsed": false,
     "input": [
      "dots = Dot(\n",
      "    xyvalues, cat=['lists','loops','dicts', 'gen exp', 'exceptions'],\n",
      "    title=\"Dots Example, dict input\", ylabel='Performance', legend='top_left')\n",
      "show(dots)"
     ],
     "language": "python",
     "metadata": {},
     "outputs": []
    },
    {
     "cell_type": "code",
     "collapsed": false,
     "input": [
      "df = pd.DataFrame(xyvalues)\n",
      "dots = Dot(\n",
      "    df, cat=['lists','loops','dicts', 'gen exp', 'exceptions'],\n",
      "    title=\"Dots Example, pandas input\", ylabel='Performance', legend='top_left')\n",
      "show(dots)"
     ],
     "language": "python",
     "metadata": {},
     "outputs": []
    },
    {
     "cell_type": "code",
     "collapsed": false,
     "input": [
      "lxyvalues = list(xyvalues.values())\n",
      "dots = Dot(\n",
      "    lxyvalues, cat=['lists','loops','dicts', 'gen exp', 'exceptions'],\n",
      "    title=\"Dots Example, list input\", ylabel='Performance', legend='top_left')\n",
      "show(dots)"
     ],
     "language": "python",
     "metadata": {},
     "outputs": []
    },
    {
     "cell_type": "code",
     "collapsed": false,
     "input": [
      "from blaze import Data\n",
      "from bokeh.plotting import output_notebook, show\n",
      "output_notebook()\n",
      "bxyvalues = Data(xyvalues)\n",
      "dots = Dot(bxyvalues, cat=['lists','loops','dicts', 'gen exp', 'exceptions'],\n",
      "         title=\"Dots Example\", ylabel='Performance', notebook=True)\n",
      "show(dots)"
     ],
     "language": "python",
     "metadata": {},
     "outputs": []
    },
    {
     "cell_type": "code",
     "collapsed": false,
     "input": [],
     "language": "python",
     "metadata": {},
     "outputs": []
    }
   ],
   "metadata": {}
  }
 ]
}