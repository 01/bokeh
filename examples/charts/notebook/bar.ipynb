{
 "worksheets": [
  {
   "cells": [
    {
     "cell_type": "code",
     "metadata": {},
     "outputs": [],
     "input": [
      "from collections import OrderedDict\n",
      "\n",
      "import numpy as np\n",
      "import pandas as pd\n",
      "\n",
      "from bokeh.charts import Bar\n",
      "from bokeh.plotting import VBox, output_notebook, show\n",
      "from bokeh.sampledata.olympics2014 import data as original_data"
     ],
     "language": "python"
    },
    {
     "cell_type": "code",
     "metadata": {},
     "outputs": [],
     "input": [
      "data = {d['abbr']: d['medals'] for d in original_data['data'] if d['medals']['total'] > 0}\n",
      "\n",
      "countries = sorted(data.keys(), key=lambda x: data[x]['total'], reverse=True)\n",
      "\n",
      "gold = np.array([data[abbr]['gold'] for abbr in countries], dtype=np.float)\n",
      "silver = np.array([data[abbr]['silver'] for abbr in countries], dtype=np.float)\n",
      "bronze = np.array([data[abbr]['bronze'] for abbr in countries], dtype=np.float)\n",
      "output_notebook()\n",
      "medals = OrderedDict(bronze=bronze, silver=silver, gold=gold)"
     ],
     "language": "python"
    },
    {
     "cell_type": "code",
     "metadata": {},
     "outputs": [],
     "input": [
      "bar = Bar(\n",
      "    medals, countries, title=\"grouped, dict input\", \n",
      "    xlabel=\"countries\", ylabel=\"medals\", legend=True, width=600, height=400)\n",
      "show(bar)"
     ],
     "language": "python"
    },
    {
     "cell_type": "code",
     "metadata": {},
     "outputs": [],
     "input": [
      "bar = Bar(\n",
      "    medals, countries, title=\"stacked, dict input\", \n",
      "    xlabel=\"countries\", ylabel=\"medals\", legend=True, width=600, height=400, stacked=True)\n",
      "show(bar)"
     ],
     "language": "python"
    },
    {
     "cell_type": "code",
     "metadata": {},
     "outputs": [],
     "input": [
      "df = pd.DataFrame(medals, index=countries)\n",
      "\n",
      "bar1 = Bar(\n",
      "    df, title=\"stacked, pandas input\", xlabel=\"countries\", ylabel=\"medals\", \n",
      "    legend=True, width=600, height=400, stacked=True)\n",
      "\n",
      "bar2 = bar = Bar(\n",
      "    df, title=\"grouped, pandas input\", xlabel=\"countries\", ylabel=\"medals\", \n",
      "    legend=True, width=600, height=400, stacked=False)\n",
      "\n",
      "show(VBox(bar1, bar2))"
     ],
     "language": "python"
    },
    {
     "cell_type": "code",
     "metadata": {},
     "outputs": [],
     "input": [
      "medals = np.array([bronze, silver, gold])\n",
      "bar = Bar(\n",
      "    medals, title=\"grouped, array input\", xlabel=\"countries\", ylabel=\"medals\", \n",
      "    legend=True, width=600, height=400)\n",
      "show(bar)"
     ],
     "language": "python"
    },
    {
     "cell_type": "code",
     "metadata": {},
     "outputs": [],
     "input": [
      "from blaze import Data\n",
      "from bokeh.plotting import output_notebook, show\n",
      "output_notebook()\n",
      "medals = Data([bronze, silver, gold], fields=['bronze', 'silver', 'gold'])\n",
      "bar = Bar(medals, cat=countries, title=\"grouped, df_input\", xlabel=\"countries\", ylabel=\"medals\", legend='top_right', stacked=True, width=800, height=600)\n",
      "output_notebook()\n",
      "show(bar)"
     ],
     "language": "python"
    },
    {
     "cell_type": "code",
     "metadata": {},
     "outputs": [],
     "input": [
      ""
     ],
     "language": "python"
    }
   ]
  }
 ],
 "cells": [],
 "metadata": {
  "name": "",
  "signature": "sha256:f13d76f88f872aa30005458c5563faff88941a7d36a9b0103b5b12b28312e8e0"
 },
 "nbformat": 3,
 "nbformat_minor": 0
}