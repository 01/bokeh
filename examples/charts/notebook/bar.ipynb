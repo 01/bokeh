{
 "metadata": {
  "name": "",
  "signature": "sha256:097469cb0c022784616d212dd0fcf2694d2388da93c4f3e9fe3b9c92427469f4"
 },
 "nbformat": 3,
 "nbformat_minor": 0,
 "worksheets": [
  {
   "cells": [
    {
     "cell_type": "code",
     "collapsed": false,
     "input": [
      "from collections import OrderedDict\n",
      "\n",
      "import numpy as np\n",
      "import pandas as pd\n",
      "\n",
      "from bokeh.charts import Bar\n",
      "from bokeh.plotting import VBox, output_notebook, show\n",
      "from bokeh.sampledata.olympics2014 import data as original_data"
     ],
     "language": "python",
     "metadata": {},
     "outputs": []
    },
    {
     "cell_type": "code",
     "collapsed": false,
     "input": [
      "data = {d['abbr']: d['medals'] for d in original_data['data'] if d['medals']['total'] > 0}\n",
      "\n",
      "countries = sorted(data.keys(), key=lambda x: data[x]['total'], reverse=True)\n",
      "\n",
      "gold = np.array([data[abbr]['gold'] for abbr in countries], dtype=np.float)\n",
      "silver = np.array([data[abbr]['silver'] for abbr in countries], dtype=np.float)\n",
      "bronze = np.array([data[abbr]['bronze'] for abbr in countries], dtype=np.float)\n",
      "output_notebook()\n",
      "medals = OrderedDict(bronze=bronze, silver=silver, gold=gold)"
     ],
     "language": "python",
     "metadata": {},
     "outputs": []
    },
    {
     "cell_type": "code",
     "collapsed": false,
     "input": [
      "bar = Bar(\n",
      "    medals, countries, title=\"grouped, dict input\", \n",
      "    xlabel=\"countries\", ylabel=\"medals\", legend=\"top_right\", width=600, height=400)\n",
      "show(bar)"
     ],
     "language": "python",
     "metadata": {},
     "outputs": []
    },
    {
     "cell_type": "code",
     "collapsed": false,
     "input": [
      "bar = Bar(\n",
      "    medals, countries, title=\"stacked, dict input\", \n",
      "    xlabel=\"countries\", ylabel=\"medals\", legend=\"top_right\", width=600, height=400, stacked=True)\n",
      "show(bar)"
     ],
     "language": "python",
     "metadata": {},
     "outputs": []
    },
    {
     "cell_type": "code",
     "collapsed": false,
     "input": [
      "df = pd.DataFrame(medals, index=countries)\n",
      "\n",
      "bar1 = Bar(\n",
      "    df, title=\"stacked, pandas input\", xlabel=\"countries\", ylabel=\"medals\", \n",
      "    legend=\"top_right\", width=600, height=400, stacked=True)\n",
      "\n",
      "bar2 = bar = Bar(\n",
      "    df, title=\"grouped, pandas input\", xlabel=\"countries\", ylabel=\"medals\", \n",
      "    legend=\"top_right\", width=600, height=400, stacked=False)\n",
      "\n",
      "show(VBox(bar1, bar2))"
     ],
     "language": "python",
     "metadata": {},
     "outputs": []
    },
    {
     "cell_type": "code",
     "collapsed": false,
     "input": [
      "medals = np.array([bronze, silver, gold])\n",
      "bar = Bar(\n",
      "    medals, title=\"grouped, array input\", xlabel=\"countries\", ylabel=\"medals\", \n",
      "    legend=\"top_right\", width=600, height=400)\n",
      "show(bar)"
     ],
     "language": "python",
     "metadata": {},
     "outputs": []
    },
    {
     "cell_type": "code",
     "collapsed": false,
     "input": [
      "from blaze import Data\n",
      "from bokeh.plotting import output_notebook, show\n",
      "output_notebook()\n",
      "medals = Data([bronze, silver, gold], fields=['bronze', 'silver', 'gold'])\n",
      "bar = Bar(medals, cat=countries, title=\"grouped, df_input\", xlabel=\"countries\", ylabel=\"medals\", legend='top_right', stacked=True, width=800, height=600)\n",
      "output_notebook()\n",
      "show(bar)"
     ],
     "language": "python",
     "metadata": {},
     "outputs": []
    },
    {
     "cell_type": "code",
     "collapsed": false,
     "input": [],
     "language": "python",
     "metadata": {},
     "outputs": []
    }
   ],
   "metadata": {}
  }
 ]
}