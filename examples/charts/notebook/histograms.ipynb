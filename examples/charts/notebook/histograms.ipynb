{
 "metadata": {
  "name": "",
  "signature": "sha256:4df94c3cdbd4e105a0a183570e5566794dc55829331fa934dc4f8c068165a3cc"
 },
 "nbformat": 3,
 "nbformat_minor": 0,
 "worksheets": [
  {
   "cells": [
    {
     "cell_type": "code",
     "collapsed": false,
     "input": [
      "from collections import OrderedDict\n",
      "import numpy as np\n",
      "import pandas as pd\n",
      "from bokeh.charts import Histogram, output_notebook, show\n",
      "output_notebook()"
     ],
     "language": "python",
     "metadata": {},
     "outputs": []
    },
    {
     "cell_type": "code",
     "collapsed": false,
     "input": [
      "mu, sigma = 0, 0.5\n",
      "normal = np.random.normal(mu, sigma, 1000)\n",
      "lognormal = np.random.lognormal(mu, sigma, 1000)\n",
      "\n",
      "distributions = OrderedDict(normal=normal, lognormal=lognormal)\n",
      "normal_dist = OrderedDict(normal=normal)"
     ],
     "language": "python",
     "metadata": {},
     "outputs": []
    },
    {
     "cell_type": "code",
     "collapsed": false,
     "input": [
      "hist = Histogram(\n",
      "    normal_dist, bins=50, mu=mu, sigma=sigma,\n",
      "    title=\"Histogram, dict input\", ylabel=\"frequency\", \n",
      "    legend=\"top_left\", width=400, height=350)\n",
      "show(hist)"
     ],
     "language": "python",
     "metadata": {},
     "outputs": []
    },
    {
     "cell_type": "code",
     "collapsed": false,
     "input": [
      "df = pd.DataFrame(normal_dist)\n",
      "hist = Histogram(\n",
      "    df, bins=50, mu=mu, sigma=sigma,\n",
      "    title=\"Histogram, pandas input\", ylabel=\"frequency\", \n",
      "    tools=True, width=400, height=350, legend=\"top_left\")\n",
      "show(hist)"
     ],
     "language": "python",
     "metadata": {},
     "outputs": []
    },
    {
     "cell_type": "code",
     "collapsed": false,
     "input": [
      "hist = Histogram(\n",
      "    normal, bins=50, mu=mu, sigma=sigma,\n",
      "    title=\"Histogram, array input\", ylabel=\"frequency\",\n",
      "    width=500, height=350, legend=\"top_left\")\n",
      "show(hist)"
     ],
     "language": "python",
     "metadata": {},
     "outputs": []
    },
    {
     "cell_type": "code",
     "collapsed": false,
     "input": [
      "from blaze import Data\n",
      "output_notebook()\n",
      "b = Data(df)\n",
      "hist = Histogram(b, bins=50,title=\"kwargs, dict_input\", ylabel=\"frequency\", legend=\"top_right\",\n",
      "                 width=500, height=350, notebook=True)\n",
      "show(hist)"
     ],
     "language": "python",
     "metadata": {},
     "outputs": []
    },
    {
     "cell_type": "code",
     "collapsed": false,
     "input": [],
     "language": "python",
     "metadata": {},
     "outputs": []
    }
   ],
   "metadata": {}
  }
 ]
}