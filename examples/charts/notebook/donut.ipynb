{
 "metadata": {
  "name": "",
  "signature": "sha256:051322a5c9e0b594c9e31887cf45ad9f139714830b64fa669749af6527ed185e"
 },
 "nbformat": 3,
 "nbformat_minor": 0,
 "worksheets": [
  {
   "cells": [
    {
     "cell_type": "code",
     "collapsed": false,
     "input": [
      "import bokeh\n",
      "bokeh.load_notebook()"
     ],
     "language": "python",
     "metadata": {},
     "outputs": []
    },
    {
     "cell_type": "code",
     "collapsed": false,
     "input": [
      "import pandas as pd\n",
      "from collections import OrderedDict\n",
      "\n",
      "from bokeh.sampledata.olympics2014 import data\n",
      "from bokeh.charts import Donut\n",
      "\n",
      "# we throw the data into a pandas df\n",
      "df = pd.io.json.json_normalize(data['data'])\n",
      "# filter by countries with at least one medal and sort\n",
      "df = df[df['medals.total'] > 8]\n",
      "df = df.sort(\"medals.total\", ascending=False)\n",
      "\n",
      "# then, we get the countries and we group the data by medal type\n",
      "countries = df.abbr.values.tolist()\n",
      "gold = df['medals.gold'].astype(float).values\n",
      "silver = df['medals.silver'].astype(float).values\n",
      "bronze = df['medals.bronze'].astype(float).values\n",
      "\n",
      "# later, we build a dict containing the grouped data\n",
      "medals = OrderedDict(bronze=bronze, silver=silver, gold=gold)\n",
      "\n",
      "donut = Donut(medals, countries, notebook=True, title='Medals Count', \n",
      "              xlabel='countries', ylabel='medals')\n",
      "donut.show()"
     ],
     "language": "python",
     "metadata": {},
     "outputs": []
    },
    {
     "cell_type": "code",
     "collapsed": false,
     "input": [
      "import pandas as pd\n",
      "from bokeh.plotting import output_notebook, show\n",
      "output_notebook()\n",
      "df = pd.DataFrame(medals)\n",
      "donut = Donut(df, countries, notebook=True, title='Medals Count', \n",
      "              xlabel='countries', ylabel='medals', legend=True)\n",
      "show(donut)"
     ],
     "language": "python",
     "metadata": {},
     "outputs": []
    },
    {
     "cell_type": "code",
     "collapsed": false,
     "input": [
      "from blaze import Data\n",
      "from bokeh.plotting import output_notebook, show\n",
      "medals = Data([bronze, silver, gold], fields=['bronze', 'silver', 'gold'])\n",
      "output_notebook()\n",
      "# df = pd.DataFrame(medals)\n",
      "donut = Donut(medals, countries, title='Medals Count', \n",
      "              xlabel='countries', ylabel='medals', legend=True)\n",
      "show(donut)"
     ],
     "language": "python",
     "metadata": {},
     "outputs": []
    },
    {
     "cell_type": "code",
     "collapsed": false,
     "input": [],
     "language": "python",
     "metadata": {},
     "outputs": []
    }
   ],
   "metadata": {}
  }
 ]
}