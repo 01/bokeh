{
 "metadata": {
  "name": "",
  "signature": "sha256:d6e259f1657ce8a74c15213a7159d1fe733f4aa7d61258778dfd37ac107304b0"
 },
 "nbformat": 3,
 "nbformat_minor": 0,
 "worksheets": [
  {
   "cells": [
    {
     "cell_type": "code",
     "collapsed": false,
     "input": [
      "from collections import OrderedDict\n",
      "import pandas as pd\n",
      "from bokeh.charts import Scatter, output_notebook, show\n",
      "from bokeh.sampledata.iris import flowers\n",
      "output_notebook()"
     ],
     "language": "python",
     "metadata": {},
     "outputs": []
    },
    {
     "cell_type": "code",
     "collapsed": false,
     "input": [
      "setosa = flowers[(flowers.species == \"setosa\")][[\"petal_length\", \"petal_width\"]]\n",
      "versicolor = flowers[(flowers.species == \"versicolor\")][[\"petal_length\", \"petal_width\"]]\n",
      "virginica = flowers[(flowers.species == \"virginica\")][[\"petal_length\", \"petal_width\"]]\n",
      "\n",
      "xyvalues = OrderedDict([\n",
      "    (\"setosa\", setosa.values), \n",
      "    (\"versicolor\", versicolor.values), \n",
      "    (\"virginica\", virginica.values)\n",
      "])"
     ],
     "language": "python",
     "metadata": {},
     "outputs": []
    },
    {
     "cell_type": "code",
     "collapsed": false,
     "input": [
      "scatter = Scatter(\n",
      "    xyvalues, title=\"iris dataset, dict input\", \n",
      "    xlabel=\"petal_length\", ylabel=\"petal_width\", legend='top_left')\n",
      "show(scatter)"
     ],
     "language": "python",
     "metadata": {},
     "outputs": []
    },
    {
     "cell_type": "code",
     "collapsed": false,
     "input": [
      "groupped_df = flowers[[\"petal_length\", \"petal_width\", \"species\"]].groupby(\"species\")\n",
      "scatter = Scatter(\n",
      "    groupped_df, title=\"iris dataset, grouped pandas input\", \n",
      "    xlabel=\"petal_length\", ylabel=\"petal_width\", legend='top_left')\n",
      "show(scatter)"
     ],
     "language": "python",
     "metadata": {},
     "outputs": []
    },
    {
     "cell_type": "code",
     "collapsed": false,
     "input": [
      "pdict = OrderedDict()\n",
      "for i in groupped_df.groups.keys():\n",
      "    labels = groupped_df.get_group(i).columns\n",
      "    xname = labels[0]\n",
      "    yname = labels[1]\n",
      "    x = getattr(groupped_df.get_group(i), xname)\n",
      "    y = getattr(groupped_df.get_group(i), yname)\n",
      "    pdict[i] = list(zip(x, y))"
     ],
     "language": "python",
     "metadata": {},
     "outputs": []
    },
    {
     "cell_type": "code",
     "collapsed": false,
     "input": [
      "df = pd.DataFrame(pdict)\n",
      "scatter = Scatter(\n",
      "    df, title=\"iris dataset, pandas input\", \n",
      "    xlabel=\"petal_length\", ylabel=\"petal_width\", legend='top_left')\n",
      "show(scatter)"
     ],
     "language": "python",
     "metadata": {},
     "outputs": []
    },
    {
     "cell_type": "code",
     "collapsed": false,
     "input": [
      "scatter = Scatter(\n",
      "    list(xyvalues.values()), title=\"iris dataset, list input\", \n",
      "    xlabel=\"petal_length\", ylabel=\"petal_width\", legend='top_left')\n",
      "show(scatter)"
     ],
     "language": "python",
     "metadata": {},
     "outputs": []
    },
    {
     "cell_type": "code",
     "collapsed": false,
     "input": [
      "from blaze import Data\n",
      "\n",
      "b = Data(df)\n",
      "scatter = Scatter(b, title=\"iris dataset, dict_input\", xlabel=\"petal_length\",\n",
      "                  ylabel=\"petal_width\", legend='top_left')\n",
      "show(scatter)"
     ],
     "language": "python",
     "metadata": {},
     "outputs": []
    },
    {
     "cell_type": "code",
     "collapsed": false,
     "input": [],
     "language": "python",
     "metadata": {},
     "outputs": []
    }
   ],
   "metadata": {}
  }
 ]
}