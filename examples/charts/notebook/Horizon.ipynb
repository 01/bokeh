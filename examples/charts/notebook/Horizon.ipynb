{
 "metadata": {
  "name": "",
  "signature": "sha256:1635e917ae4fd9d2a937a336e3432be0b6bfd45f1e9517651e23eb0feee8cbe9"
 },
 "nbformat": 3,
 "nbformat_minor": 0,
 "worksheets": [
  {
   "cells": [
    {
     "cell_type": "code",
     "collapsed": false,
     "input": [
      "from collections import OrderedDict\n",
      "import pandas as pd\n",
      "from bokeh.charts import Horizon\n",
      "from bokeh.plotting import output_notebook, show\n",
      "\n",
      "# Here is some code to read in some stock data from the Yahoo Finance API\n",
      "AAPL = pd.read_csv(\n",
      "    \"http://ichart.yahoo.com/table.csv?s=AAPL&a=0&b=1&c=2000&d=0&e=1&f=2010\",\n",
      "    parse_dates=['Date'])\n",
      "MSFT = pd.read_csv(\n",
      "    \"http://ichart.yahoo.com/table.csv?s=MSFT&a=0&b=1&c=2000&d=0&e=1&f=2010\",\n",
      "    parse_dates=['Date'])\n",
      "IBM = pd.read_csv(\n",
      "    \"http://ichart.yahoo.com/table.csv?s=IBM&a=0&b=1&c=2000&d=0&e=1&f=2010\",\n",
      "    parse_dates=['Date'])\n",
      "\n",
      "xyvalues = OrderedDict(\n",
      "    AAPL=AAPL['Adj Close'],\n",
      "    Date=AAPL['Date'],\n",
      "    MSFT=MSFT['Adj Close'],\n",
      "    IBM=IBM['Adj Close'],\n",
      ")\n",
      "output_notebook()\n",
      "h = Horizon(xyvalues, index='Date', title=\"horizon plot using stock inputs\",\n",
      "                width=800, height=300)\n",
      "show(h) # or h.show()"
     ],
     "language": "python",
     "metadata": {},
     "outputs": []
    },
    {
     "cell_type": "code",
     "collapsed": false,
     "input": [
      "# example with blaze Data\n",
      "from blaze import Data\n",
      "bd = Data(xyvalues)\n",
      "h = Horizon(xyvalues, index='Date', title=\"horizon plot using stock inputs\",\n",
      "                width=800, height=300, filename=\"horizon.html\")\n",
      "\n",
      "show(h) # or h.show()"
     ],
     "language": "python",
     "metadata": {},
     "outputs": []
    },
    {
     "cell_type": "code",
     "collapsed": false,
     "input": [
      "# example with random data\n",
      "import numpy as np\n",
      "\n",
      "x = np.linspace(0, np.pi*4, 137)\n",
      "y = (2*np.random.normal(size=137) + x**2)\n",
      "xx = np.hstack([-1*x[::-1], x])\n",
      "yy = np.hstack([-1*y[::-1], y])\n",
      "xyvalues = OrderedDict(x=xx, y=yy, y2=yy, y3=yy, y4=yy, y5=yy)\n",
      "h = Horizon(xyvalues, index='x', title=\"test horizon\", ylabel='Random')\n",
      "show(h)"
     ],
     "language": "python",
     "metadata": {},
     "outputs": []
    },
    {
     "cell_type": "code",
     "collapsed": false,
     "input": [],
     "language": "python",
     "metadata": {},
     "outputs": []
    }
   ],
   "metadata": {}
  }
 ]
}