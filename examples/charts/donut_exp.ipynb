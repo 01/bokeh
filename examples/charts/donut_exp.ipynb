{
 "metadata": {
  "name": "",
  "signature": "sha256:3bdaf3ad1e518d97dbe89ca04cb9478c9736b70381d8c49aeb94c657680e895a"
 },
 "nbformat": 3,
 "nbformat_minor": 0,
 "worksheets": [
  {
   "cells": [
    {
     "cell_type": "code",
     "collapsed": false,
     "input": [
      "import bokeh\n",
      "bokeh.load_notebook()"
     ],
     "language": "python",
     "metadata": {},
     "outputs": []
    },
    {
     "cell_type": "code",
     "collapsed": false,
     "input": [
      "import pandas as pd\n",
      "from collections import OrderedDict\n",
      "\n",
      "from bokeh.sampledata.olympics2014 import data\n",
      "from bokeh.charts import Donut\n",
      "\n",
      "# we throw the data into a pandas df\n",
      "df = pd.io.json.json_normalize(data['data'])\n",
      "# filter by countries with at least one medal and sort\n",
      "df = df[df['medals.total'] > 8]\n",
      "df = df.sort(\"medals.total\", ascending=False)\n",
      "\n",
      "# then, we get the countries and we group the data by medal type\n",
      "countries = df.abbr.values.tolist()\n",
      "gold = df['medals.gold'].astype(float).values\n",
      "silver = df['medals.silver'].astype(float).values\n",
      "bronze = df['medals.bronze'].astype(float).values\n",
      "\n",
      "# later, we build a dict containing the grouped data\n",
      "medals = OrderedDict(bronze=bronze, silver=silver, gold=gold)\n",
      "\n",
      "donut = Donut(medals, countries, notebook=True)\n",
      "donut.title(\"Medals Donut\").xlabel(\"countries\").ylabel(\"medals\")\n",
      "donut.width(800).height(800).show()"
     ],
     "language": "python",
     "metadata": {},
     "outputs": []
    },
    {
     "cell_type": "code",
     "collapsed": false,
     "input": [
      "\n",
      "from bokeh.document import Document\n",
      "from bokeh.embed import file_html\n",
      "from bokeh.models.glyphs import Wedge, AnnularWedge, ImageURL, Text\n",
      "from bokeh.models import ColumnDataSource, Plot, Range1d\n",
      "\n",
      "plot = Plot(title='hi', x_range=donut.xdr, y_range=donut.ydr)\n",
      "\n",
      "data = [\n",
      "{'start': [0., 0.29518320235071882, 0.63253543360868325, 0.88554960705215646], 'fill': ['#f22c40', '#f22c40', '#f22c40', '#f22c40'], 'end': [0.29518320235071882, 0.63253543360868325, 0.88554960705215646, 0.88554960705215635]} ,\n",
      "{'start': [0.88554960705215635, 1.2229018383101207, 1.4759160117535939, 1.7289301851970671], 'fill': ['#5ab738', '#5ab738', '#5ab738', '#5ab738'], 'end': [1.2229018383101207, 1.4759160117535939, 1.7289301851970671, 1.7289301851970671]} ,\n",
      "{'start': [1.7289301851970671, 2.1506204742695223, 2.3192965898985047, 2.5723107633419779], 'fill': ['#407ee7', '#407ee7', '#407ee7', '#407ee7'], 'end': [2.1506204742695223, 2.3192965898985047, 2.5723107633419779, 2.5723107633419779]} ,\n",
      "{'start': [2.5723107633419779, 2.867493965692697, 3.036170081321679, 3.3735223125796434], 'fill': ['#df5320', '#df5320', '#df5320', '#df5320'], 'end': [2.867493965692697, 3.036170081321679, 3.3735223125796434, 3.3735223125796434]} ,\n",
      "{'start': [3.3735223125796434, 3.5421984282086254, 3.8795506594665898, 4.0482267750955723], 'fill': ['#00ad9c', '#00ad9c', '#00ad9c', '#00ad9c'], 'end': [3.5421984282086254, 3.8795506594665898, 4.0482267750955723, 4.0482267750955723]} ,\n",
      "{'start': [4.0482267750955723, 4.2169028907245547, 4.3434099774462913, 4.6807622087042553], 'fill': ['#c33ff3', '#c33ff3', '#c33ff3', '#c33ff3'], 'end': [4.2169028907245547, 4.3434099774462913, 4.6807622087042553, 4.6807622087042553]} ,\n",
      "{'start': [4.6807622087042553, 4.8916073532404827, 4.9759454110549743, 5.1024524977767109], 'fill': ['#f22c40', '#f22c40', '#f22c40', '#f22c40'], 'end': [4.8916073532404827, 4.9759454110549743, 5.1024524977767109, 5.1024524977767109]} ,\n",
      "{'start': [5.1024524977767109, 5.1446215266839568, 5.2711286134056934, 5.5241427868491666], 'fill': ['#5ab738', '#5ab738', '#5ab738', '#5ab738'], 'end': [5.1446215266839568, 5.2711286134056934, 5.5241427868491666, 5.5241427868491666]} ,\n",
      "{'start': [5.5241427868491666, 5.5663118157564124, 5.8193259891998856, 5.9036640470143764], 'fill': ['#407ee7', '#407ee7', '#407ee7', '#407ee7'], 'end': [5.5663118157564124, 5.8193259891998856, 5.9036640470143764, 5.9036640470143764]} ,\n",
      "{'start': [5.9036640470143764, 5.9880021048288672, 6.1988472493650955, 6.2831853071795862], 'fill': ['#df5320', '#df5320', '#df5320', '#df5320'], 'end': [5.9880021048288672, 6.1988472493650955, 6.2831853071795862, 6.2831853071795862]} ,\n",
      "]\n",
      "for d in data:\n",
      "    source = ColumnDataSource(d)\n",
      "    glyph = AnnularWedge(x=0., y=0., inner_radius=1., outer_radius=1.5,\n",
      "                    start_angle=\"start\", end_angle=\"end\", line_color=\"white\",\n",
      "                    line_width=2, fill_color=\"fill\")\n",
      "    plot.add_glyph(source, glyph)\n",
      "\n",
      "doc = Document()\n",
      "doc.add(plot)\n"
     ],
     "language": "python",
     "metadata": {},
     "outputs": []
    },
    {
     "cell_type": "code",
     "collapsed": false,
     "input": [
      "from bokeh.utils import publish_display_data\n",
      "from bokeh.embed import notebook_div\n",
      "data = {'text/html': notebook_div(plot)}\n",
      "publish_display_data(data)"
     ],
     "language": "python",
     "metadata": {},
     "outputs": []
    },
    {
     "cell_type": "code",
     "collapsed": false,
     "input": [],
     "language": "python",
     "metadata": {},
     "outputs": []
    }
   ],
   "metadata": {}
  }
 ]
}