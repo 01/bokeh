{
 "metadata": {
  "name": "",
  "signature": "sha256:4eb1e19a9187b110f2b8a8836d874aa8ff864cf556b502115092f21d3e17687d"
 },
 "nbformat": 3,
 "nbformat_minor": 0,
 "worksheets": [
  {
   "cells": [
    {
     "cell_type": "code",
     "collapsed": false,
     "input": [
      "from __future__ import print_function, with_statement\n",
      "import time\n",
      "import numpy as np\n",
      "from collections import OrderedDict\n",
      "import bokeh.plotting as plt\n",
      "from bokeh.objects import HoverTool, Glyph\n",
      "\n",
      "\n",
      "x = np.arange(0,11,1)\n",
      "y = 10*x\n",
      "y2 = x*x\n",
      "\n",
      "plt.output_server('Multi-line hover3')\n",
      "tools = 'pan,wheel_zoom,box_zoom,previewsave'\n",
      "\n",
      "plt.figure(title='Test', tools=tools, plot_width=800, plot_height=600)\n",
      "plt.hold()\n",
      "source = plt.ColumnDataSource(data={'x':x, 'y':y, 'y2':y2})\n",
      "p1 = plt.line('x', 'y', source=source, line_color=\"teal\", line_width=1, line_alpha=0.2, legend='x')\n",
      "p1s = plt.scatter('x', 'y', color='teal', source=source, size=10, fill_alpha=0.5, legend='x', name='p1')\n",
      "p2 = plt.line('x', 'y2', source=source, line_color=\"maroon\", line_width=1, line_alpha=0.2, legend='x^2')\n",
      "p2s = plt.scatter('x', 'y2', color='maroon', source=source, size=10, fill_alpha=0.5, legend='x^2', name='p2')\n",
      "plt.legend()[0].orientation = 'top_left'\n",
      "\n"
     ],
     "language": "python",
     "metadata": {},
     "outputs": [],
     "prompt_number": 25
    },
    {
     "cell_type": "code",
     "collapsed": false,
     "input": [],
     "language": "python",
     "metadata": {},
     "outputs": [
      {
       "metadata": {},
       "output_type": "pyout",
       "prompt_number": 32,
       "text": [
        "[<bokeh.objects.Legend at 0x11437a550>]"
       ]
      }
     ],
     "prompt_number": 32
    },
    {
     "cell_type": "code",
     "collapsed": false,
     "input": [
      "hover=HoverTool(plot=p1, always_active=True, renderers=[p1.renderers[-3]])\n",
      "hover2=HoverTool(plot=p1, always_active=True, renderers=[p1.renderers[-1]])\n",
      "\n",
      "hover.tooltips = OrderedDict([('pt.', '(@x,@y)')])\n",
      "hover2.tooltips = OrderedDict([('pt.', '(@x,@y2)')])\n",
      "\n",
      "p1.tools.append(hover)\n",
      "p1.tools.append(hover2)\n"
     ],
     "language": "python",
     "metadata": {},
     "outputs": [],
     "prompt_number": 33
    },
    {
     "cell_type": "code",
     "collapsed": false,
     "input": [
      "sess = plt.cursession()\n",
      "sess.store_document(plt.curdoc())\n",
      "plt.show()"
     ],
     "language": "python",
     "metadata": {},
     "outputs": [],
     "prompt_number": 34
    },
    {
     "cell_type": "code",
     "collapsed": false,
     "input": [],
     "language": "python",
     "metadata": {},
     "outputs": []
    }
   ],
   "metadata": {}
  }
 ]
}