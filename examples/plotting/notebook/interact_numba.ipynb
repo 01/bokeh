{
 "metadata": {
  "name": "",
  "signature": "sha256:b3d1b27e234438a5e2318fe9fa265ea4033184cfdd9d4d694f35e6c1a16bc0f9"
 },
 "nbformat": 3,
 "nbformat_minor": 0,
 "worksheets": [
  {
   "cells": [
    {
     "cell_type": "markdown",
     "metadata": {},
     "source": [
      "Interactive Image Processing with Numba and Bokeh\n",
      "-------------------------------------------------\n",
      "\n",
      "This demo shows off an interactive image blur using [Numba](http://numba.pydata.org) for numerics, [Bokeh](http://bokeh.pydata.org) for plotting, and Ipython interactors for widgets. The demo runs entirely inside the Ipython notebook, with no Bokeh server required.\n",
      "\n",
      "Numba must be installed in order to run this demo. To run, click on, `Cell->Run All` in the top menu, then scroll to the bottom and move the slider. "
     ]
    },
    {
     "cell_type": "code",
     "collapsed": false,
     "input": [
      "from __future__ import print_function, division\n",
      "\n",
      "from bokeh.plotting import *\n",
      "from numba import jit, njit\n",
      "\n",
      "import numpy as np\n",
      "import scipy.misc"
     ],
     "language": "python",
     "metadata": {},
     "outputs": []
    },
    {
     "cell_type": "markdown",
     "metadata": {},
     "source": [
      "# Gaussian Blur"
     ]
    },
    {
     "cell_type": "code",
     "collapsed": false,
     "input": [
      "# smaller image\n",
      "img = (scipy.misc.ascent()[::-1,:]/255.0)[:250, :250].copy(order='C')"
     ],
     "language": "python",
     "metadata": {},
     "outputs": []
    },
    {
     "cell_type": "code",
     "collapsed": false,
     "input": [
      "output_notebook()"
     ],
     "language": "python",
     "metadata": {},
     "outputs": []
    },
    {
     "cell_type": "code",
     "collapsed": false,
     "input": [
      "palette = ['#%02x%02x%02x' %(i,i,i) for i in range(256)]\n",
      "width, height = img.shape\n",
      "p = figure(x_range=(0, width), y_range=(0, height))\n",
      "p.image(image=[img], x=[0], y=[0], dw=[width], dh=[height], palette=palette, name='foo')"
     ],
     "language": "python",
     "metadata": {},
     "outputs": []
    },
    {
     "cell_type": "code",
     "collapsed": false,
     "input": [
      "options= [1, 3, 5, 7, 9, 11, 13, 15, 17, 19]\n",
      "\n",
      "@njit\n",
      "def blur(outimg, img, amt):\n",
      "    iw, ih = img.shape\n",
      "    for i in range(amt, iw-amt):\n",
      "        for j in range(amt, ih-amt):\n",
      "            px = 0.\n",
      "            for w in range(-amt//2, amt//2):\n",
      "                for h in range(-amt//2, amt//2):\n",
      "                    px += img[i+w, j+h]\n",
      "            outimg[i, j]= px/(amt*amt)"
     ],
     "language": "python",
     "metadata": {},
     "outputs": []
    },
    {
     "cell_type": "code",
     "collapsed": false,
     "input": [
      "from timeit import default_timer as timer\n",
      "def update(i):\n",
      "    out = img.copy()\n",
      "    \n",
      "    ts = timer()\n",
      "    blur(out, img, options[i])\n",
      "    te = timer()\n",
      "    print('blur takes:', te - ts)\n",
      "    \n",
      "    renderer = p.select(dict(name=\"foo\"))\n",
      "    ds = renderer[0].data_source\n",
      "    ds.data['image'] = [out]\n",
      "    ds.push_notebook()"
     ],
     "language": "python",
     "metadata": {},
     "outputs": []
    },
    {
     "cell_type": "code",
     "collapsed": false,
     "input": [
      "#show(p)"
     ],
     "language": "python",
     "metadata": {},
     "outputs": []
    },
    {
     "cell_type": "code",
     "collapsed": false,
     "input": [
      "#from IPython.html.widgets import *\n",
      "#interact(update, i=(0, len(options)-1))"
     ],
     "language": "python",
     "metadata": {},
     "outputs": []
    },
    {
     "cell_type": "markdown",
     "metadata": {},
     "source": [
      "# 3x3 kernels"
     ]
    },
    {
     "cell_type": "code",
     "collapsed": false,
     "input": [
      "@jit\n",
      "def getitem(img, x, y):\n",
      "    w, h = img.shape\n",
      "    if x >= w:\n",
      "        x = w - 1 - (x - w)\n",
      "    if y >= h:\n",
      "        y = h - 1 - (y - h)\n",
      "    return img[x, y]\n",
      " \n",
      "def filter_factory(kernel):\n",
      "    ksum = kernel.sum()\n",
      "    if ksum != 0:\n",
      "        k9 = kernel / ksum\n",
      "    else:\n",
      "        k9 = kernel\n",
      " \n",
      "    @jit\n",
      "    def kernel_apply(img, out, x, y):\n",
      "        tmp = 0\n",
      "        for i in range(3):\n",
      "            for j in range(3):\n",
      "                tmp += img[x+i-1, y+j-1] * k9[i, j]\n",
      "        out[x, y] = tmp\n",
      " \n",
      "    @jit\n",
      "    def kernel_apply_edge(img, out, x, y):\n",
      "        tmp = 0\n",
      "        for i in range(3):\n",
      "            for j in range(3):\n",
      "                tmp += getitem(img, x+i-1, y+j-1) * k9[i, j]\n",
      "        out[x, y] = tmp\n",
      " \n",
      "    @jit\n",
      "    def kernel_k9(img, out):\n",
      "        # Loop through all internals\n",
      "        for x in range(1, img.shape[0] -1):\n",
      "            for y in range(1, img.shape[1] -1):\n",
      "                kernel_apply(img, out, x, y)\n",
      " \n",
      "        # Loop through all the edges\n",
      "        for x in range(img.shape[0]):\n",
      "            kernel_apply_edge(img, out, x, 0)\n",
      "            kernel_apply_edge(img, out, x, img.shape[1] - 1)\n",
      " \n",
      "        for y in range(img.shape[1]):\n",
      "            kernel_apply_edge(img, out, 0, y)\n",
      "            kernel_apply_edge(img, out, img.shape[0] - 1, y)\n",
      " \n",
      "    return kernel_k9\n",
      " "
     ],
     "language": "python",
     "metadata": {},
     "outputs": []
    },
    {
     "cell_type": "code",
     "collapsed": false,
     "input": [
      "average = np.array([\n",
      "    [1, 1, 1],\n",
      "    [1, 1, 1],\n",
      "    [1, 1, 1],\n",
      "], dtype=np.float32)\n",
      "\n",
      "sharpen = np.array([\n",
      "    [-1, -1, -1],\n",
      "    [-1, 12, -1],\n",
      "    [-1, -1, -1],\n",
      "], dtype=np.float32)\n",
      "\n",
      "edge = np.array([\n",
      "    [ 0, -1,  0],\n",
      "    [-1,  4, -1],\n",
      "    [ 0, -1,  0],\n",
      "], dtype=np.float32)\n",
      "\n",
      "edge_h = np.array([\n",
      "    [ 0,  0,  0],\n",
      "    [-1,  2, -1],\n",
      "    [ 0,  0,  0],\n",
      "], dtype=np.float32)\n",
      "\n",
      "edge_v = np.array([\n",
      "    [0, -1, 0],\n",
      "    [0,  2, 0],\n",
      "    [0, -1, 0],\n",
      "], dtype=np.float32)\n",
      "\n",
      "gradient_h = np.array([\n",
      "    [-1, -1, -1],\n",
      "    [ 0,  0,  0],\n",
      "    [ 1,  1,  1],\n",
      "], dtype=np.float32)\n",
      "\n",
      "gradient_v = np.array([\n",
      "    [-1, 0, 1],\n",
      "    [-1, 0, 1],\n",
      "    [-1, 0, 1],\n",
      "], dtype=np.float32)\n",
      "\n",
      "sobol_h = np.array([\n",
      "    [ 1,  2,  1],\n",
      "    [ 0,  0,  0],\n",
      "    [-1, -2, -1],\n",
      "], dtype=np.float32)\n",
      "\n",
      "sobol_v = np.array([\n",
      "    [-1, 0, 1],\n",
      "    [-2, 0, 2],\n",
      "    [-1, 0, 1],\n",
      "], dtype=np.float32)\n",
      " \n",
      "emboss = np.array([    \n",
      "    [-2, -1, 0],\n",
      "    [-1,  1, 1],\n",
      "    [ 0,  1, 2],\n",
      "], dtype=np.float32)"
     ],
     "language": "python",
     "metadata": {},
     "outputs": []
    },
    {
     "cell_type": "code",
     "collapsed": false,
     "input": [
      "kernels = {\n",
      "    \"average\"               : filter_factory(average),\n",
      "    \"sharpen\"               : filter_factory(sharpen),\n",
      "    \"edge (both)\"           : filter_factory(edge),\n",
      "    \"edge (horizontal)\"     : filter_factory(edge_h),\n",
      "    \"edge (vertical)\"       : filter_factory(edge_v),\n",
      "    \"gradient (horizontal)\" : filter_factory(gradient_h),\n",
      "    \"gradient (vertical)\"   : filter_factory(gradient_v),\n",
      "    \"sobol (horizontal)\"    : filter_factory(sobol_h),\n",
      "    \"sobol (vertical)\"      : filter_factory(sobol_v),\n",
      "    \"emboss\"                : filter_factory(emboss),\n",
      "}"
     ],
     "language": "python",
     "metadata": {},
     "outputs": []
    },
    {
     "cell_type": "code",
     "collapsed": false,
     "input": [
      "img = scipy.misc.face(gray=True).astype(np.float32)[::-1, :]"
     ],
     "language": "python",
     "metadata": {},
     "outputs": []
    },
    {
     "cell_type": "code",
     "collapsed": false,
     "input": [
      "palette = ['#%02x%02x%02x' %(i,i,i) for i in range(256)]\n",
      "width, height = img.shape\n",
      "p = figure(x_range=(0, width), y_range=(0, height))\n",
      "p.image(image=[img], x=[0], y=[0], dw=[width], dh=[height], palette=palette, name=\"foo\")"
     ],
     "language": "python",
     "metadata": {},
     "outputs": []
    },
    {
     "cell_type": "code",
     "collapsed": false,
     "input": [
      "from timeit import default_timer as timer\n",
      "def update(kernel_name):\n",
      "    kernel = kernels.get(kernel_name, None)\n",
      "    if kernel == None:\n",
      "        out = img\n",
      "    \n",
      "    else:\n",
      "        out = np.zeros_like(img)\n",
      "        \n",
      "        ts = timer()\n",
      "        kernel(img, out)\n",
      "        te = timer()\n",
      "        print('kernel takes:', te - ts)\n",
      "\n",
      "    renderer = p.select(dict(name=\"foo\"))\n",
      "    ds = renderer[0].data_source\n",
      "    ds.data['image'] = [out]\n",
      "    ds.push_notebook()"
     ],
     "language": "python",
     "metadata": {},
     "outputs": []
    },
    {
     "cell_type": "code",
     "collapsed": false,
     "input": [
      "show(p)"
     ],
     "language": "python",
     "metadata": {},
     "outputs": []
    },
    {
     "cell_type": "code",
     "collapsed": false,
     "input": [
      "from IPython.html.widgets import *\n",
      "interact(update, kernel_name = [\"none\"] + sorted(kernels.keys()))"
     ],
     "language": "python",
     "metadata": {},
     "outputs": []
    },
    {
     "cell_type": "code",
     "collapsed": false,
     "input": [],
     "language": "python",
     "metadata": {},
     "outputs": []
    }
   ],
   "metadata": {}
  }
 ]
}