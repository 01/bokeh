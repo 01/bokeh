{
 "cells": [
  {
   "cell_type": "raw",
   "metadata": {},
   "source": [
    "This IPython Notebook contains simple examples of many of the basic vectorizable glyph functions that Bokeh provides. \n",
    "\n",
    "To clear all previously rendered cell outputs, select from the menu:\n",
    "\n",
    "    Cell -> All Output -> Clear"
   ]
  },
  {
   "cell_type": "code",
   "execution_count": 1,
   "metadata": {
    "collapsed": false
   },
   "outputs": [],
   "source": [
    "import numpy as np\n",
    "from bokeh.plotting import figure, show, output_notebook"
   ]
  },
  {
   "cell_type": "code",
   "execution_count": 2,
   "metadata": {
    "collapsed": false
   },
   "outputs": [],
   "source": [
    "N = 9"
   ]
  },
  {
   "cell_type": "code",
   "execution_count": 3,
   "metadata": {
    "collapsed": false
   },
   "outputs": [],
   "source": [
    "x = np.linspace(-2, 2, N)\n",
    "y = x**2\n",
    "sizes = np.linspace(10, 20, N)\n",
    "xpts = np.array([-.09, -.12, .0, .12, .09])\n",
    "ypts = np.array([-.1, .02, .1, .02, -.1])"
   ]
  },
  {
   "cell_type": "code",
   "execution_count": 4,
   "metadata": {
    "collapsed": false
   },
   "outputs": [
    {
     "data": {
      "text/html": [
       "\n",
       "    <div class=\"bk-banner\">\n",
       "        <a href=\"http://bokeh.pydata.org\" target=\"_blank\" class=\"bk-logo bk-logo-small bk-logo-notebook\"></a>\n",
       "        <span id=\"a3e1bacb-e6ad-42d7-af39-4523fa8ec59f\">Loading BokehJS ...</span>\n",
       "    </div>"
      ]
     },
     "metadata": {},
     "output_type": "display_data"
    },
    {
     "data": {
      "application/javascript": [
       "\n",
       "(function(global) {\n",
       "  function now() {\n",
       "    return new Date();\n",
       "  }\n",
       "\n",
       "  if (typeof (window._bokeh_onload_callbacks) === \"undefined\") {\n",
       "    window._bokeh_onload_callbacks = [];\n",
       "  }\n",
       "\n",
       "  function run_callbacks() {\n",
       "    window._bokeh_onload_callbacks.forEach(function(callback) { callback() });\n",
       "    delete window._bokeh_onload_callbacks\n",
       "    console.info(\"Bokeh: all callbacks have finished\");\n",
       "  }\n",
       "\n",
       "  function load_libs(js_urls, callback) {\n",
       "    window._bokeh_onload_callbacks.push(callback);\n",
       "    if (window._bokeh_is_loading > 0) {\n",
       "      console.log(\"Bokeh: BokehJS is being loaded, scheduling callback at\", now());\n",
       "      return null;\n",
       "    }\n",
       "    if (js_urls == null || js_urls.length === 0) {\n",
       "      run_callbacks();\n",
       "      return null;\n",
       "    }\n",
       "    console.log(\"Bokeh: BokehJS not loaded, scheduling load and callback at\", now());\n",
       "    window._bokeh_is_loading = js_urls.length;\n",
       "    for (var i = 0; i < js_urls.length; i++) {\n",
       "      var url = js_urls[i];\n",
       "      var s = document.createElement('script');\n",
       "      s.src = url;\n",
       "      s.async = false;\n",
       "      s.onreadystatechange = s.onload = function() {\n",
       "        window._bokeh_is_loading--;\n",
       "        if (window._bokeh_is_loading === 0) {\n",
       "          console.log(\"Bokeh: all BokehJS libraries loaded\");\n",
       "          run_callbacks()\n",
       "        }\n",
       "      };\n",
       "      s.onerror = function() {\n",
       "        console.warn(\"failed to load library \" + url);\n",
       "      };\n",
       "      console.log(\"Bokeh: injecting script tag for BokehJS library: \", url);\n",
       "      document.getElementsByTagName(\"head\")[0].appendChild(s);\n",
       "    }\n",
       "  };\n",
       "\n",
       "  var js_urls = ['http://localhost:5006/static/js/bokeh.js', 'http://localhost:5006/static/js/bokeh-widgets.js', 'http://localhost:5006/static/js/bokeh-compiler.js'];\n",
       "\n",
       "  var inline_js = [\n",
       "    function(Bokeh) {\n",
       "      Bokeh.set_log_level(\"info\");\n",
       "    },\n",
       "    \n",
       "    function(Bokeh) {\n",
       "      Bokeh.$(\"#a3e1bacb-e6ad-42d7-af39-4523fa8ec59f\").text(\"BokehJS successfully loaded\");\n",
       "    },\n",
       "    function(Bokeh) {\n",
       "      console.log(\"Bokeh: injecting CSS: http://localhost:5006/static/css/bokeh.css\");\n",
       "      Bokeh.embed.inject_css(\"http://localhost:5006/static/css/bokeh.css\");\n",
       "      console.log(\"Bokeh: injecting CSS: http://localhost:5006/static/css/bokeh-widgets.css\");\n",
       "      Bokeh.embed.inject_css(\"http://localhost:5006/static/css/bokeh-widgets.css\");\n",
       "    }\n",
       "  ];\n",
       "\n",
       "  function run_inline_js() {\n",
       "    for (var i = 0; i < inline_js.length; i++) {\n",
       "      inline_js[i](window.Bokeh);\n",
       "    }\n",
       "  }\n",
       "\n",
       "  if (window._bokeh_is_loading === 0) {\n",
       "    console.log(\"Bokeh: BokehJS loaded, going straight to plotting\");\n",
       "    run_inline_js();\n",
       "  } else {\n",
       "    load_libs(js_urls, function() {\n",
       "      console.log(\"Bokeh: BokehJS plotting callback run at\", now());\n",
       "      run_inline_js();\n",
       "    });\n",
       "  }\n",
       "}(this));"
      ]
     },
     "metadata": {},
     "output_type": "display_data"
    }
   ],
   "source": [
    "output_notebook()"
   ]
  },
  {
   "cell_type": "code",
   "execution_count": 5,
   "metadata": {
    "collapsed": false
   },
   "outputs": [
    {
     "data": {
      "text/html": [
       "\n",
       "\n",
       "    <div class=\"bk-root\">\n",
       "        <div class=\"plotdiv\" id=\"41a98583-e49d-4d0e-8a86-6ef70c0ce547\"></div>\n",
       "    </div>\n",
       "<script type=\"text/javascript\">\n",
       "  \n",
       "  (function(global) {\n",
       "    function now() {\n",
       "      return new Date();\n",
       "    }\n",
       "  \n",
       "    if (typeof (window._bokeh_onload_callbacks) === \"undefined\") {\n",
       "      window._bokeh_onload_callbacks = [];\n",
       "    }\n",
       "  \n",
       "    function run_callbacks() {\n",
       "      window._bokeh_onload_callbacks.forEach(function(callback) { callback() });\n",
       "      delete window._bokeh_onload_callbacks\n",
       "      console.info(\"Bokeh: all callbacks have finished\");\n",
       "    }\n",
       "  \n",
       "    function load_libs(js_urls, callback) {\n",
       "      window._bokeh_onload_callbacks.push(callback);\n",
       "      if (window._bokeh_is_loading > 0) {\n",
       "        console.log(\"Bokeh: BokehJS is being loaded, scheduling callback at\", now());\n",
       "        return null;\n",
       "      }\n",
       "      if (js_urls == null || js_urls.length === 0) {\n",
       "        run_callbacks();\n",
       "        return null;\n",
       "      }\n",
       "      console.log(\"Bokeh: BokehJS not loaded, scheduling load and callback at\", now());\n",
       "      window._bokeh_is_loading = js_urls.length;\n",
       "      for (var i = 0; i < js_urls.length; i++) {\n",
       "        var url = js_urls[i];\n",
       "        var s = document.createElement('script');\n",
       "        s.src = url;\n",
       "        s.async = false;\n",
       "        s.onreadystatechange = s.onload = function() {\n",
       "          window._bokeh_is_loading--;\n",
       "          if (window._bokeh_is_loading === 0) {\n",
       "            console.log(\"Bokeh: all BokehJS libraries loaded\");\n",
       "            run_callbacks()\n",
       "          }\n",
       "        };\n",
       "        s.onerror = function() {\n",
       "          console.warn(\"failed to load library \" + url);\n",
       "        };\n",
       "        console.log(\"Bokeh: injecting script tag for BokehJS library: \", url);\n",
       "        document.getElementsByTagName(\"head\")[0].appendChild(s);\n",
       "      }\n",
       "    };var element = document.getElementById(\"41a98583-e49d-4d0e-8a86-6ef70c0ce547\");\n",
       "    if (element == null) {\n",
       "      console.log(\"Bokeh: ERROR: autoload.js configured with elementid '41a98583-e49d-4d0e-8a86-6ef70c0ce547' but no matching script tag was found. \")\n",
       "      return false;\n",
       "    }\n",
       "  \n",
       "    var js_urls = [];\n",
       "  \n",
       "    var inline_js = [\n",
       "      function(Bokeh) {\n",
       "        Bokeh.$(function() {\n",
       "            var docs_json = {\"d7ea7b10-b46c-4937-b1f1-fec350f3ec6d\":{\"roots\":{\"references\":[{\"attributes\":{\"formatter\":{\"id\":\"bf4adfca-8320-498e-832e-76560aabd9ca\",\"type\":\"BasicTickFormatter\"},\"plot\":{\"id\":\"b1541cd4-f3c0-43ca-bf78-2021b603d74c\",\"subtype\":\"Figure\",\"type\":\"Plot\"},\"ticker\":{\"id\":\"ea8b3df0-3078-42b1-9693-0cdd0e488943\",\"type\":\"BasicTicker\"}},\"id\":\"4029a588-fb06-4e13-98c0-310c2d40ecf6\",\"type\":\"LinearAxis\"},{\"attributes\":{\"overlay\":{\"id\":\"52cabf34-4acc-4f6a-804f-90d683f7373f\",\"type\":\"BoxAnnotation\"},\"plot\":{\"id\":\"b1541cd4-f3c0-43ca-bf78-2021b603d74c\",\"subtype\":\"Figure\",\"type\":\"Plot\"}},\"id\":\"97cd56d4-9690-44ac-8aaf-f50f47ca218b\",\"type\":\"BoxZoomTool\"},{\"attributes\":{\"plot\":{\"id\":\"b1541cd4-f3c0-43ca-bf78-2021b603d74c\",\"subtype\":\"Figure\",\"type\":\"Plot\"},\"ticker\":{\"id\":\"c8416ae7-977e-49f3-84b2-43e06316135e\",\"type\":\"BasicTicker\"}},\"id\":\"ba4a063b-0c07-47ad-a3b9-7c49cf640999\",\"type\":\"Grid\"},{\"attributes\":{\"plot\":null,\"text\":\"annular_wedge\"},\"id\":\"d3d5a66d-06bb-41dd-8575-2ee29949b920\",\"type\":\"Title\"},{\"attributes\":{},\"id\":\"c8416ae7-977e-49f3-84b2-43e06316135e\",\"type\":\"BasicTicker\"},{\"attributes\":{},\"id\":\"ea8b3df0-3078-42b1-9693-0cdd0e488943\",\"type\":\"BasicTicker\"},{\"attributes\":{\"plot\":{\"id\":\"b1541cd4-f3c0-43ca-bf78-2021b603d74c\",\"subtype\":\"Figure\",\"type\":\"Plot\"}},\"id\":\"b3746558-cda8-44bc-9569-cd8dbbd4ef71\",\"type\":\"HelpTool\"},{\"attributes\":{\"plot\":{\"id\":\"b1541cd4-f3c0-43ca-bf78-2021b603d74c\",\"subtype\":\"Figure\",\"type\":\"Plot\"}},\"id\":\"846bbf1f-0b48-4c8d-943a-90317d421114\",\"type\":\"ResetTool\"},{\"attributes\":{\"end_angle\":{\"units\":\"rad\",\"value\":4.1},\"fill_color\":{\"value\":\"#8888ee\"},\"inner_radius\":{\"units\":\"screen\",\"value\":10},\"line_color\":{\"value\":\"#8888ee\"},\"outer_radius\":{\"units\":\"screen\",\"value\":20},\"start_angle\":{\"units\":\"rad\",\"value\":0.6},\"x\":{\"field\":\"x\"},\"y\":{\"field\":\"y\"}},\"id\":\"343dca25-6fed-4c18-bfde-81366f51514a\",\"type\":\"AnnularWedge\"},{\"attributes\":{\"plot\":{\"id\":\"b1541cd4-f3c0-43ca-bf78-2021b603d74c\",\"subtype\":\"Figure\",\"type\":\"Plot\"}},\"id\":\"0428a996-7f04-4936-95e8-588fefd7c273\",\"type\":\"SaveTool\"},{\"attributes\":{\"below\":[{\"id\":\"710cc2b4-c791-451e-a937-f6d00074954b\",\"type\":\"LinearAxis\"}],\"left\":[{\"id\":\"4029a588-fb06-4e13-98c0-310c2d40ecf6\",\"type\":\"LinearAxis\"}],\"renderers\":[{\"id\":\"710cc2b4-c791-451e-a937-f6d00074954b\",\"type\":\"LinearAxis\"},{\"id\":\"ba4a063b-0c07-47ad-a3b9-7c49cf640999\",\"type\":\"Grid\"},{\"id\":\"4029a588-fb06-4e13-98c0-310c2d40ecf6\",\"type\":\"LinearAxis\"},{\"id\":\"f96a7d2d-855d-40bf-96f7-c288a066f956\",\"type\":\"Grid\"},{\"id\":\"52cabf34-4acc-4f6a-804f-90d683f7373f\",\"type\":\"BoxAnnotation\"},{\"id\":\"9530f664-33a7-4893-ac4e-5a89ca5083ec\",\"type\":\"GlyphRenderer\"}],\"title\":{\"id\":\"d3d5a66d-06bb-41dd-8575-2ee29949b920\",\"type\":\"Title\"},\"tool_events\":{\"id\":\"57f93296-6145-435e-857f-9809315d2053\",\"type\":\"ToolEvents\"},\"toolbar\":{\"id\":\"8eb23c78-3eff-423b-bc1d-8937c3d58a60\",\"type\":\"Toolbar\"},\"x_range\":{\"id\":\"19463faf-8ef7-48c2-a561-40d0d51b4a4a\",\"type\":\"DataRange1d\"},\"y_range\":{\"id\":\"5d8be4b5-0e32-4702-8973-7fbfe818622f\",\"type\":\"DataRange1d\"}},\"id\":\"b1541cd4-f3c0-43ca-bf78-2021b603d74c\",\"subtype\":\"Figure\",\"type\":\"Plot\"},{\"attributes\":{},\"id\":\"84d2d6cb-fed4-43f8-ba02-d630eb15cde3\",\"type\":\"BasicTickFormatter\"},{\"attributes\":{\"end_angle\":{\"units\":\"rad\",\"value\":4.1},\"fill_alpha\":{\"value\":0.1},\"fill_color\":{\"value\":\"#1f77b4\"},\"inner_radius\":{\"units\":\"screen\",\"value\":10},\"line_alpha\":{\"value\":0.1},\"line_color\":{\"value\":\"#1f77b4\"},\"outer_radius\":{\"units\":\"screen\",\"value\":20},\"start_angle\":{\"units\":\"rad\",\"value\":0.6},\"x\":{\"field\":\"x\"},\"y\":{\"field\":\"y\"}},\"id\":\"43c5d764-323c-4dc8-bb02-9ae29b19ee75\",\"type\":\"AnnularWedge\"},{\"attributes\":{\"plot\":{\"id\":\"b1541cd4-f3c0-43ca-bf78-2021b603d74c\",\"subtype\":\"Figure\",\"type\":\"Plot\"}},\"id\":\"7d677693-6cb4-4d8f-aacb-10b040b57b99\",\"type\":\"PanTool\"},{\"attributes\":{\"tools\":[{\"id\":\"7d677693-6cb4-4d8f-aacb-10b040b57b99\",\"type\":\"PanTool\"},{\"id\":\"05f92195-1345-46ce-b63c-13072a02a808\",\"type\":\"WheelZoomTool\"},{\"id\":\"97cd56d4-9690-44ac-8aaf-f50f47ca218b\",\"type\":\"BoxZoomTool\"},{\"id\":\"0428a996-7f04-4936-95e8-588fefd7c273\",\"type\":\"SaveTool\"},{\"id\":\"846bbf1f-0b48-4c8d-943a-90317d421114\",\"type\":\"ResetTool\"},{\"id\":\"b3746558-cda8-44bc-9569-cd8dbbd4ef71\",\"type\":\"HelpTool\"}]},\"id\":\"8eb23c78-3eff-423b-bc1d-8937c3d58a60\",\"type\":\"Toolbar\"},{\"attributes\":{\"data_source\":{\"id\":\"f56150ae-5a6e-4dfe-8440-84189578f0c0\",\"type\":\"ColumnDataSource\"},\"glyph\":{\"id\":\"343dca25-6fed-4c18-bfde-81366f51514a\",\"type\":\"AnnularWedge\"},\"hover_glyph\":null,\"nonselection_glyph\":{\"id\":\"43c5d764-323c-4dc8-bb02-9ae29b19ee75\",\"type\":\"AnnularWedge\"},\"selection_glyph\":null},\"id\":\"9530f664-33a7-4893-ac4e-5a89ca5083ec\",\"type\":\"GlyphRenderer\"},{\"attributes\":{\"bottom_units\":\"screen\",\"fill_alpha\":{\"value\":0.5},\"fill_color\":{\"value\":\"lightgrey\"},\"left_units\":\"screen\",\"level\":\"overlay\",\"line_alpha\":{\"value\":1.0},\"line_color\":{\"value\":\"black\"},\"line_dash\":[4,4],\"line_width\":{\"value\":2},\"plot\":null,\"render_mode\":\"css\",\"right_units\":\"screen\",\"top_units\":\"screen\"},\"id\":\"52cabf34-4acc-4f6a-804f-90d683f7373f\",\"type\":\"BoxAnnotation\"},{\"attributes\":{},\"id\":\"bf4adfca-8320-498e-832e-76560aabd9ca\",\"type\":\"BasicTickFormatter\"},{\"attributes\":{\"formatter\":{\"id\":\"84d2d6cb-fed4-43f8-ba02-d630eb15cde3\",\"type\":\"BasicTickFormatter\"},\"plot\":{\"id\":\"b1541cd4-f3c0-43ca-bf78-2021b603d74c\",\"subtype\":\"Figure\",\"type\":\"Plot\"},\"ticker\":{\"id\":\"c8416ae7-977e-49f3-84b2-43e06316135e\",\"type\":\"BasicTicker\"}},\"id\":\"710cc2b4-c791-451e-a937-f6d00074954b\",\"type\":\"LinearAxis\"},{\"attributes\":{\"callback\":null},\"id\":\"19463faf-8ef7-48c2-a561-40d0d51b4a4a\",\"type\":\"DataRange1d\"},{\"attributes\":{\"callback\":null,\"column_names\":[\"x\",\"y\"],\"data\":{\"x\":[-2.0,-1.5,-1.0,-0.5,0.0,0.5,1.0,1.5,2.0],\"y\":[4.0,2.25,1.0,0.25,0.0,0.25,1.0,2.25,4.0]}},\"id\":\"f56150ae-5a6e-4dfe-8440-84189578f0c0\",\"type\":\"ColumnDataSource\"},{\"attributes\":{\"dimension\":1,\"plot\":{\"id\":\"b1541cd4-f3c0-43ca-bf78-2021b603d74c\",\"subtype\":\"Figure\",\"type\":\"Plot\"},\"ticker\":{\"id\":\"ea8b3df0-3078-42b1-9693-0cdd0e488943\",\"type\":\"BasicTicker\"}},\"id\":\"f96a7d2d-855d-40bf-96f7-c288a066f956\",\"type\":\"Grid\"},{\"attributes\":{\"plot\":{\"id\":\"b1541cd4-f3c0-43ca-bf78-2021b603d74c\",\"subtype\":\"Figure\",\"type\":\"Plot\"}},\"id\":\"05f92195-1345-46ce-b63c-13072a02a808\",\"type\":\"WheelZoomTool\"},{\"attributes\":{\"callback\":null},\"id\":\"5d8be4b5-0e32-4702-8973-7fbfe818622f\",\"type\":\"DataRange1d\"},{\"attributes\":{},\"id\":\"57f93296-6145-435e-857f-9809315d2053\",\"type\":\"ToolEvents\"}],\"root_ids\":[\"b1541cd4-f3c0-43ca-bf78-2021b603d74c\"]},\"title\":\"Bokeh Application\",\"version\":\"0.12.0dev12-3-gc6f0193-dirty\"}};\n",
       "            var render_items = [{\"docid\":\"d7ea7b10-b46c-4937-b1f1-fec350f3ec6d\",\"elementid\":\"41a98583-e49d-4d0e-8a86-6ef70c0ce547\",\"modelid\":\"b1541cd4-f3c0-43ca-bf78-2021b603d74c\",\"notebook_comms_target\":\"c809a5b0-4471-4ff2-81ff-b5220d726af1\"}];\n",
       "            \n",
       "            Bokeh.embed.embed_items(docs_json, render_items);\n",
       "        });\n",
       "      },\n",
       "      function(Bokeh) {\n",
       "      }\n",
       "    ];\n",
       "  \n",
       "    function run_inline_js() {\n",
       "      for (var i = 0; i < inline_js.length; i++) {\n",
       "        inline_js[i](window.Bokeh);\n",
       "      }\n",
       "    }\n",
       "  \n",
       "    if (window._bokeh_is_loading === 0) {\n",
       "      console.log(\"Bokeh: BokehJS loaded, going straight to plotting\");\n",
       "      run_inline_js();\n",
       "    } else {\n",
       "      load_libs(js_urls, function() {\n",
       "        console.log(\"Bokeh: BokehJS plotting callback run at\", now());\n",
       "        run_inline_js();\n",
       "      });\n",
       "    }\n",
       "  }(this));\n",
       "</script>"
      ]
     },
     "metadata": {},
     "output_type": "display_data"
    },
    {
     "data": {
      "text/html": [
       "<p><code>&lt;Bokeh Notebook handle for <strong>In[5]</strong>&gt;</code></p>"
      ],
      "text/plain": [
       "<bokeh.io._CommsHandle at 0x10d0ca278>"
      ]
     },
     "execution_count": 5,
     "metadata": {},
     "output_type": "execute_result"
    }
   ],
   "source": [
    "p = figure(title=\"annular_wedge\")\n",
    "p.annular_wedge(x, y, 10, 20, 0.6, 4.1, color=\"#8888ee\",\n",
    "    inner_radius_units=\"screen\", outer_radius_units=\"screen\")\n",
    "show(p)"
   ]
  },
  {
   "cell_type": "code",
   "execution_count": null,
   "metadata": {
    "collapsed": false
   },
   "outputs": [],
   "source": [
    "p = figure(title=\"annulus\")\n",
    "p.annulus(x, y, 10, 20, color=\"#7FC97F\",\n",
    "    inner_radius_units=\"screen\", outer_radius_units = \"screen\")\n",
    "show(p)"
   ]
  },
  {
   "cell_type": "code",
   "execution_count": null,
   "metadata": {
    "collapsed": false
   },
   "outputs": [],
   "source": [
    "p = figure(title=\"arc\")\n",
    "p.arc(x, y, 20, 0.6, 4.1,\n",
    "    radius_units=\"screen\", color=\"#BEAED4\", line_width=3)\n",
    "show(p)"
   ]
  },
  {
   "cell_type": "code",
   "execution_count": null,
   "metadata": {
    "collapsed": false
   },
   "outputs": [],
   "source": [
    "p = figure(title=\"bezier\")\n",
    "p.bezier(x, y, x+0.2, y, x+0.1, y+0.1, x-0.1, y-0.1,\n",
    "    color=\"#D95F02\", line_width=2)\n",
    "show(p)"
   ]
  },
  {
   "cell_type": "code",
   "execution_count": null,
   "metadata": {
    "collapsed": false
   },
   "outputs": [],
   "source": [
    "p = figure(title=\"circle\")\n",
    "p.circle(x, y, radius=0.1, color=\"#3288BD\")\n",
    "show(p)"
   ]
  },
  {
   "cell_type": "code",
   "execution_count": null,
   "metadata": {
    "collapsed": false
   },
   "outputs": [],
   "source": [
    "p = figure(title=\"ellipse\")\n",
    "p.ellipse(x, y, 15, 25, angle=-0.7, color=\"#1D91C0\",\n",
    "    width_units=\"screen\", height_units=\"screen\")\n",
    "show(p)"
   ]
  },
  {
   "cell_type": "code",
   "execution_count": null,
   "metadata": {
    "collapsed": false
   },
   "outputs": [],
   "source": [
    "p = figure(title=\"line\")\n",
    "p.line(x, y, color=\"#F46D43\")\n",
    "show(p)"
   ]
  },
  {
   "cell_type": "code",
   "execution_count": null,
   "metadata": {
    "collapsed": false
   },
   "outputs": [],
   "source": [
    "p = figure(title=\"multi_line\")\n",
    "p.multi_line([xpts+xx for xx in x], [ypts+yy for yy in y],\n",
    "    color=\"#8073AC\", line_width=2)\n",
    "show(p)"
   ]
  },
  {
   "cell_type": "code",
   "execution_count": null,
   "metadata": {
    "collapsed": false
   },
   "outputs": [],
   "source": [
    "p = figure(title=\"oval\")\n",
    "p.oval(x, y, 15, 25, angle=-0.7, color=\"#1D91C0\",\n",
    "    width_units=\"screen\", height_units=\"screen\")\n",
    "show(p)"
   ]
  },
  {
   "cell_type": "code",
   "execution_count": null,
   "metadata": {
    "collapsed": false
   },
   "outputs": [],
   "source": [
    "p = figure(title=\"patch\")\n",
    "p.patch(x, y, color=\"#A6CEE3\")\n",
    "show(p)"
   ]
  },
  {
   "cell_type": "code",
   "execution_count": null,
   "metadata": {
    "collapsed": false
   },
   "outputs": [],
   "source": [
    "p = figure(title=\"patches\")\n",
    "p.patches([xpts+xx for xx in x], [ypts+yy for yy in y], color=\"#FB9A99\")\n",
    "show(p)"
   ]
  },
  {
   "cell_type": "code",
   "execution_count": null,
   "metadata": {
    "collapsed": false
   },
   "outputs": [],
   "source": [
    "p = figure(title=\"quad\")\n",
    "p.quad(x, x-0.1, y, y-0.1, color=\"#B3DE69\")\n",
    "show(p)"
   ]
  },
  {
   "cell_type": "code",
   "execution_count": null,
   "metadata": {
    "collapsed": false
   },
   "outputs": [],
   "source": [
    "p = figure(title=\"quadratic\")\n",
    "p.quadratic(x, y, x+0.2, y, x+0.1, y+0.1, color=\"#4DAF4A\", line_width=3)\n",
    "show(p)"
   ]
  },
  {
   "cell_type": "code",
   "execution_count": null,
   "metadata": {
    "collapsed": false
   },
   "outputs": [],
   "source": [
    "p = figure(title=\"ray\")\n",
    "p.ray(x, y, 45, -0.7, color=\"#FB8072\", line_width=2)\n",
    "show(p)"
   ]
  },
  {
   "cell_type": "code",
   "execution_count": null,
   "metadata": {
    "collapsed": false
   },
   "outputs": [],
   "source": [
    "p = figure(title=\"rect\")\n",
    "p.rect(x, y, 10, 20, color=\"#CAB2D6\",\n",
    "    width_units=\"screen\", height_units=\"screen\")\n",
    "show(p)"
   ]
  },
  {
   "cell_type": "code",
   "execution_count": null,
   "metadata": {
    "collapsed": false
   },
   "outputs": [],
   "source": [
    "p = figure(title=\"segment\")\n",
    "p.segment(x, y, x-0.1, y-0.1, color=\"#F4A582\", line_width=3)\n",
    "show(p)"
   ]
  },
  {
   "cell_type": "code",
   "execution_count": null,
   "metadata": {
    "collapsed": false
   },
   "outputs": [],
   "source": [
    "p = figure(title=\"square\")\n",
    "p.square(x, y, size=sizes, color=\"#74ADD1\")\n",
    "show(p)"
   ]
  },
  {
   "cell_type": "code",
   "execution_count": null,
   "metadata": {
    "collapsed": false
   },
   "outputs": [],
   "source": [
    "p = figure(title=\"wedge\")\n",
    "p.wedge(x, y, 15, 0.6, 4.1, radius_units=\"screen\", color=\"#B3DE69\")\n",
    "show(p)"
   ]
  },
  {
   "cell_type": "code",
   "execution_count": null,
   "metadata": {
    "collapsed": false
   },
   "outputs": [],
   "source": [
    "p = figure(title=\"circle_x\")\n",
    "p.scatter(x, y, marker=\"circle_x\", size=sizes, color=\"#DD1C77\", fill_color=None)\n",
    "show(p)"
   ]
  },
  {
   "cell_type": "code",
   "execution_count": null,
   "metadata": {
    "collapsed": false
   },
   "outputs": [],
   "source": [
    "p = figure(title=\"triangle\")\n",
    "p.scatter(x, y, marker=\"triangle\", size=sizes, color=\"#99D594\", line_width=2)\n",
    "show(p)"
   ]
  },
  {
   "cell_type": "code",
   "execution_count": null,
   "metadata": {
    "collapsed": false
   },
   "outputs": [],
   "source": [
    "p = figure(title=\"circle\")\n",
    "p.scatter(x, y, marker=\"o\", size=sizes, color=\"#80B1D3\", line_width=3)\n",
    "show(p)"
   ]
  },
  {
   "cell_type": "code",
   "execution_count": null,
   "metadata": {
    "collapsed": false
   },
   "outputs": [],
   "source": [
    "p = figure(title=\"cross\")\n",
    "p.scatter(x, y, marker=\"cross\", size=sizes, color=\"#E6550D\", line_width=2)\n",
    "show(p)"
   ]
  },
  {
   "cell_type": "code",
   "execution_count": null,
   "metadata": {
    "collapsed": false
   },
   "outputs": [],
   "source": [
    "p = figure(title=\"diamond\")\n",
    "p.scatter(x, y, marker=\"diamond\", size=sizes, color=\"#1C9099\", line_width=2)\n",
    "show(p)"
   ]
  },
  {
   "cell_type": "code",
   "execution_count": null,
   "metadata": {
    "collapsed": false
   },
   "outputs": [],
   "source": [
    "p = figure(title=\"inverted_triangle\")\n",
    "p.scatter(x, y, marker=\"inverted_triangle\", size=sizes, color=\"#DE2D26\")\n",
    "show(p)"
   ]
  },
  {
   "cell_type": "code",
   "execution_count": null,
   "metadata": {
    "collapsed": false
   },
   "outputs": [],
   "source": [
    "p = figure(title=\"square_x\")\n",
    "p.scatter(x, y, marker=\"square_x\", size=sizes, color=\"#FDAE6B\",\n",
    "    fill_color=None, line_width=2)\n",
    "show(p)"
   ]
  },
  {
   "cell_type": "code",
   "execution_count": null,
   "metadata": {
    "collapsed": false
   },
   "outputs": [],
   "source": [
    "p = figure(title=\"asterisk\")\n",
    "p.scatter(x, y, marker=\"asterisk\", size=sizes, color=\"#F0027F\", line_width=2)\n",
    "show(p)"
   ]
  },
  {
   "cell_type": "code",
   "execution_count": null,
   "metadata": {
    "collapsed": false
   },
   "outputs": [],
   "source": [
    "p = figure(title=\"square_cross\")\n",
    "p.scatter(x, y, marker=\"square_cross\", size=sizes, color=\"#7FC97F\",\n",
    "    fill_color=None, line_width=2)\n",
    "show(p)"
   ]
  },
  {
   "cell_type": "code",
   "execution_count": null,
   "metadata": {
    "collapsed": false
   },
   "outputs": [],
   "source": [
    "p = figure(title=\"diamond_cross\")\n",
    "p.scatter(x, y, marker=\"diamond_cross\", size=sizes, color=\"#386CB0\",\n",
    "    fill_color=None, line_width=2)\n",
    "show(p)"
   ]
  },
  {
   "cell_type": "code",
   "execution_count": null,
   "metadata": {
    "collapsed": false
   },
   "outputs": [],
   "source": [
    "p = figure(title=\"circle_cross\")\n",
    "p.scatter(x, y, marker=\"circle_cross\", size=sizes, color=\"#FB8072\",\n",
    "    fill_color=None, line_width=2)\n",
    "show(p)"
   ]
  }
 ],
 "metadata": {
  "kernelspec": {
   "display_name": "Python 3",
   "language": "python",
   "name": "python3"
  },
  "language_info": {
   "codemirror_mode": {
    "name": "ipython",
    "version": 3
   },
   "file_extension": ".py",
   "mimetype": "text/x-python",
   "name": "python",
   "nbconvert_exporter": "python",
   "pygments_lexer": "ipython3",
   "version": "3.4.4"
  }
 },
 "nbformat": 4,
 "nbformat_minor": 0
}
