{
 "cells": [
  {
   "cell_type": "raw",
   "metadata": {},
   "source": [
    "This IPython Notebook contains simple examples of the line function. \n",
    "\n",
    "To clear all previously rendered cell outputs, select from the menu:\n",
    "\n",
    "    Cell -> All Output -> Clear"
   ]
  },
  {
   "cell_type": "code",
   "execution_count": 1,
   "metadata": {
    "collapsed": false
   },
   "outputs": [],
   "source": [
    "import numpy as np\n",
    "from six.moves import zip"
   ]
  },
  {
   "cell_type": "code",
   "execution_count": 2,
   "metadata": {
    "collapsed": false
   },
   "outputs": [],
   "source": [
    "from bokeh.plotting import figure, show, output_notebook\n",
    "from bokeh.layouts import row"
   ]
  },
  {
   "cell_type": "code",
   "execution_count": 3,
   "metadata": {
    "collapsed": false
   },
   "outputs": [],
   "source": [
    "N = 40"
   ]
  },
  {
   "cell_type": "code",
   "execution_count": 4,
   "metadata": {
    "collapsed": false
   },
   "outputs": [],
   "source": [
    "x = np.random.random(size=N) * 10\n",
    "y = np.random.random(size=N) * 10\n",
    "radii = np.random.random(size=N) * 1.5\n",
    "colors = [\"#%02x%02x%02x\" % (int(r), int(g), 150) for r, g in zip(50+2*x, 30+2*y)]"
   ]
  },
  {
   "cell_type": "code",
   "execution_count": 5,
   "metadata": {
    "collapsed": false
   },
   "outputs": [
    {
     "data": {
      "text/html": [
       "\n",
       "    <div class=\"bk-banner\">\n",
       "        <a href=\"http://bokeh.pydata.org\" target=\"_blank\" class=\"bk-logo bk-logo-small bk-logo-notebook\"></a>\n",
       "        <span id=\"37ef1af9-55cd-4768-a8f3-52c47685789d\">Loading BokehJS ...</span>\n",
       "    </div>"
      ]
     },
     "metadata": {},
     "output_type": "display_data"
    },
    {
     "data": {
      "application/javascript": [
       "\n",
       "(function(global) {\n",
       "  function now() {\n",
       "    return new Date();\n",
       "  }\n",
       "\n",
       "  if (typeof (window._bokeh_onload_callbacks) === \"undefined\") {\n",
       "    window._bokeh_onload_callbacks = [];\n",
       "  }\n",
       "\n",
       "  function run_callbacks() {\n",
       "    window._bokeh_onload_callbacks.forEach(function(callback) { callback() });\n",
       "    delete window._bokeh_onload_callbacks\n",
       "    console.info(\"Bokeh: all callbacks have finished\");\n",
       "  }\n",
       "\n",
       "  function load_libs(js_urls, callback) {\n",
       "    window._bokeh_onload_callbacks.push(callback);\n",
       "    if (window._bokeh_is_loading > 0) {\n",
       "      console.log(\"Bokeh: BokehJS is being loaded, scheduling callback at\", now());\n",
       "      return null;\n",
       "    }\n",
       "    if (js_urls == null || js_urls.length === 0) {\n",
       "      run_callbacks();\n",
       "      return null;\n",
       "    }\n",
       "    console.log(\"Bokeh: BokehJS not loaded, scheduling load and callback at\", now());\n",
       "    window._bokeh_is_loading = js_urls.length;\n",
       "    for (var i = 0; i < js_urls.length; i++) {\n",
       "      var url = js_urls[i];\n",
       "      var s = document.createElement('script');\n",
       "      s.src = url;\n",
       "      s.async = false;\n",
       "      s.onreadystatechange = s.onload = function() {\n",
       "        window._bokeh_is_loading--;\n",
       "        if (window._bokeh_is_loading === 0) {\n",
       "          console.log(\"Bokeh: all BokehJS libraries loaded\");\n",
       "          run_callbacks()\n",
       "        }\n",
       "      };\n",
       "      s.onerror = function() {\n",
       "        console.warn(\"failed to load library \" + url);\n",
       "      };\n",
       "      console.log(\"Bokeh: injecting script tag for BokehJS library: \", url);\n",
       "      document.getElementsByTagName(\"head\")[0].appendChild(s);\n",
       "    }\n",
       "  };\n",
       "\n",
       "  var js_urls = ['http://localhost:5006/static/js/bokeh.js', 'http://localhost:5006/static/js/bokeh-widgets.js', 'http://localhost:5006/static/js/bokeh-compiler.js'];\n",
       "\n",
       "  var inline_js = [\n",
       "    function(Bokeh) {\n",
       "      Bokeh.set_log_level(\"info\");\n",
       "    },\n",
       "    \n",
       "    function(Bokeh) {\n",
       "      Bokeh.$(\"#37ef1af9-55cd-4768-a8f3-52c47685789d\").text(\"BokehJS successfully loaded\");\n",
       "    },\n",
       "    function(Bokeh) {\n",
       "      console.log(\"Bokeh: injecting CSS: http://localhost:5006/static/css/bokeh.css\");\n",
       "      Bokeh.embed.inject_css(\"http://localhost:5006/static/css/bokeh.css\");\n",
       "      console.log(\"Bokeh: injecting CSS: http://localhost:5006/static/css/bokeh-widgets.css\");\n",
       "      Bokeh.embed.inject_css(\"http://localhost:5006/static/css/bokeh-widgets.css\");\n",
       "    }\n",
       "  ];\n",
       "\n",
       "  function run_inline_js() {\n",
       "    for (var i = 0; i < inline_js.length; i++) {\n",
       "      inline_js[i](window.Bokeh);\n",
       "    }\n",
       "  }\n",
       "\n",
       "  if (window._bokeh_is_loading === 0) {\n",
       "    console.log(\"Bokeh: BokehJS loaded, going straight to plotting\");\n",
       "    run_inline_js();\n",
       "  } else {\n",
       "    load_libs(js_urls, function() {\n",
       "      console.log(\"Bokeh: BokehJS plotting callback run at\", now());\n",
       "      run_inline_js();\n",
       "    });\n",
       "  }\n",
       "}(this));"
      ]
     },
     "metadata": {},
     "output_type": "display_data"
    }
   ],
   "source": [
    "output_notebook()"
   ]
  },
  {
   "cell_type": "code",
   "execution_count": 6,
   "metadata": {
    "collapsed": false
   },
   "outputs": [
    {
     "data": {
      "text/html": [
       "\n",
       "\n",
       "    <div class=\"bk-root\">\n",
       "        <div class=\"plotdiv\" id=\"24a615d7-52fa-4082-a5d9-757259d7d593\"></div>\n",
       "    </div>\n",
       "<script type=\"text/javascript\">\n",
       "  \n",
       "  (function(global) {\n",
       "    function now() {\n",
       "      return new Date();\n",
       "    }\n",
       "  \n",
       "    if (typeof (window._bokeh_onload_callbacks) === \"undefined\") {\n",
       "      window._bokeh_onload_callbacks = [];\n",
       "    }\n",
       "  \n",
       "    function run_callbacks() {\n",
       "      window._bokeh_onload_callbacks.forEach(function(callback) { callback() });\n",
       "      delete window._bokeh_onload_callbacks\n",
       "      console.info(\"Bokeh: all callbacks have finished\");\n",
       "    }\n",
       "  \n",
       "    function load_libs(js_urls, callback) {\n",
       "      window._bokeh_onload_callbacks.push(callback);\n",
       "      if (window._bokeh_is_loading > 0) {\n",
       "        console.log(\"Bokeh: BokehJS is being loaded, scheduling callback at\", now());\n",
       "        return null;\n",
       "      }\n",
       "      if (js_urls == null || js_urls.length === 0) {\n",
       "        run_callbacks();\n",
       "        return null;\n",
       "      }\n",
       "      console.log(\"Bokeh: BokehJS not loaded, scheduling load and callback at\", now());\n",
       "      window._bokeh_is_loading = js_urls.length;\n",
       "      for (var i = 0; i < js_urls.length; i++) {\n",
       "        var url = js_urls[i];\n",
       "        var s = document.createElement('script');\n",
       "        s.src = url;\n",
       "        s.async = false;\n",
       "        s.onreadystatechange = s.onload = function() {\n",
       "          window._bokeh_is_loading--;\n",
       "          if (window._bokeh_is_loading === 0) {\n",
       "            console.log(\"Bokeh: all BokehJS libraries loaded\");\n",
       "            run_callbacks()\n",
       "          }\n",
       "        };\n",
       "        s.onerror = function() {\n",
       "          console.warn(\"failed to load library \" + url);\n",
       "        };\n",
       "        console.log(\"Bokeh: injecting script tag for BokehJS library: \", url);\n",
       "        document.getElementsByTagName(\"head\")[0].appendChild(s);\n",
       "      }\n",
       "    };var element = document.getElementById(\"24a615d7-52fa-4082-a5d9-757259d7d593\");\n",
       "    if (element == null) {\n",
       "      console.log(\"Bokeh: ERROR: autoload.js configured with elementid '24a615d7-52fa-4082-a5d9-757259d7d593' but no matching script tag was found. \")\n",
       "      return false;\n",
       "    }\n",
       "  \n",
       "    var js_urls = [];\n",
       "  \n",
       "    var inline_js = [\n",
       "      function(Bokeh) {\n",
       "        Bokeh.$(function() {\n",
       "            var docs_json = {\"08f5e1b7-b245-4c62-bb27-8d6b9233e517\":{\"roots\":{\"references\":[{\"attributes\":{},\"id\":\"57beb4ac-724e-4de6-b85e-cdb4087534a8\",\"type\":\"BasicTickFormatter\"},{\"attributes\":{},\"id\":\"37b25f4f-36a4-4076-9378-38a9dc52cdeb\",\"type\":\"BasicTicker\"},{\"attributes\":{\"formatter\":{\"id\":\"57beb4ac-724e-4de6-b85e-cdb4087534a8\",\"type\":\"BasicTickFormatter\"},\"plot\":{\"id\":\"d418b75e-391b-49f0-8c07-af5f9de2b6e7\",\"subtype\":\"Figure\",\"type\":\"Plot\"},\"ticker\":{\"id\":\"9098310f-3c3c-45b5-b09b-f642b808b3dc\",\"type\":\"BasicTicker\"}},\"id\":\"92266658-75ca-4e4a-be0c-b270b02fe512\",\"type\":\"LinearAxis\"},{\"attributes\":{\"callback\":null,\"overlay\":{\"id\":\"4972707e-f70b-4d26-84b6-6a196b358d88\",\"type\":\"PolyAnnotation\"},\"plot\":{\"id\":\"d418b75e-391b-49f0-8c07-af5f9de2b6e7\",\"subtype\":\"Figure\",\"type\":\"Plot\"}},\"id\":\"79cc5084-54df-474f-a4e0-9087838d9c51\",\"type\":\"LassoSelectTool\"},{\"attributes\":{\"data_source\":{\"id\":\"db16dd3a-b44c-4aba-8699-db3467896ae5\",\"type\":\"ColumnDataSource\"},\"glyph\":{\"id\":\"36943799-5085-4744-86f4-70e78de3e1bc\",\"type\":\"Circle\"},\"hover_glyph\":null,\"nonselection_glyph\":{\"id\":\"0c44c2fb-a907-4aa8-a13c-3cefeaa7d1b9\",\"type\":\"Circle\"},\"selection_glyph\":null},\"id\":\"c4da8a68-0846-4bf7-af28-03a15d0771aa\",\"type\":\"GlyphRenderer\"},{\"attributes\":{\"fill_alpha\":{\"value\":0.1},\"fill_color\":{\"value\":\"#1f77b4\"},\"line_alpha\":{\"value\":0.1},\"line_color\":{\"value\":\"#1f77b4\"},\"radius\":{\"field\":\"radius\",\"units\":\"data\"},\"x\":{\"field\":\"x\"},\"y\":{\"field\":\"y\"}},\"id\":\"0c44c2fb-a907-4aa8-a13c-3cefeaa7d1b9\",\"type\":\"Circle\"},{\"attributes\":{\"dimension\":1,\"plot\":{\"id\":\"d418b75e-391b-49f0-8c07-af5f9de2b6e7\",\"subtype\":\"Figure\",\"type\":\"Plot\"},\"ticker\":{\"id\":\"37b25f4f-36a4-4076-9378-38a9dc52cdeb\",\"type\":\"BasicTicker\"}},\"id\":\"e5eafb1d-3f23-4034-8481-2242bf7c6f21\",\"type\":\"Grid\"},{\"attributes\":{\"bottom_units\":\"screen\",\"fill_alpha\":{\"value\":0.5},\"fill_color\":{\"value\":\"lightgrey\"},\"left_units\":\"screen\",\"level\":\"overlay\",\"line_alpha\":{\"value\":1.0},\"line_color\":{\"value\":\"black\"},\"line_dash\":[4,4],\"line_width\":{\"value\":2},\"plot\":null,\"render_mode\":\"css\",\"right_units\":\"screen\",\"top_units\":\"screen\"},\"id\":\"c63ff6e3-20b3-4226-a829-b7d103d91494\",\"type\":\"BoxAnnotation\"},{\"attributes\":{\"callback\":null,\"column_names\":[\"y\",\"x\",\"radius\",\"fill_color\"],\"data\":{\"fill_color\":[\"#322296\",\"#391e96\",\"#352996\",\"#3b2a96\",\"#382796\",\"#3c1f96\",\"#432196\",\"#402d96\",\"#411e96\",\"#3e2a96\",\"#3c2f96\",\"#452896\",\"#362896\",\"#3c2e96\",\"#392396\",\"#423196\",\"#3d2e96\",\"#352196\",\"#3b3196\",\"#382096\",\"#443096\",\"#333096\",\"#3e2096\",\"#3f2796\",\"#352196\",\"#342396\",\"#3c2196\",\"#322996\",\"#381e96\",\"#342b96\",\"#352396\",\"#3f1e96\",\"#372d96\",\"#322996\",\"#432196\",\"#412196\",\"#3c3196\",\"#392d96\",\"#412596\",\"#3a2d96\"],\"radius\":[1.3745756812171193,0.7799470428640498,0.20075080662811168,0.40911650645098313,1.069383075082401,1.301492213131426,1.0545046590960467,1.4033235304694085,0.8371311033435401,1.2402303102903347,1.1774492519557738,0.4266827144088705,1.1965780113776046,0.7330865116812759,1.3297239607985014,0.7100408774854112,0.13540018463735998,0.3065113150919621,0.9661852265291027,0.4676942882067727,1.2245162285728728,0.36916745664328987,0.0974518265207962,0.8012080641255115,0.47778740425025246,0.8447701035149653,0.1621511425529129,0.3894396796192937,0.22864486714013416,1.257248385888198,0.8403130574492779,1.375793849075572,0.27136216522960427,1.1086344099001209,0.9898150363206921,1.2184871412836795,0.008665473251839362,0.8504180297349976,1.2407617122181052,1.3111628137309885],\"x\":[0.3338671945360494,3.775136781403333,1.5875495701693976,4.53278662545173,3.4192362237056892,5.074621245199575,8.956235733482444,7.2479799800969165,7.787858346956974,6.228756955486432,5.212306525803722,9.690058531186844,2.0653966211680097,5.047172787944985,3.8233066212509668,8.267883013073106,5.9224454595717555,1.658903035970537,4.887579817865099,3.1581131986585174,9.13487928892639,0.9199715201529546,6.101744185119173,6.588266579325919,1.669990017259665,1.4869281617136998,5.019812517569447,0.4540450569609489,3.123468451036149,1.2131387326678322,1.5632490573140612,6.767885672419533,2.622566680253505,0.3584948538284316,8.865190345929708,7.662647163272954,5.1395027126019865,3.96265649399943,7.860102899002179,4.029143053008902],\"y\":[2.1921977492487765,0.470112348418501,5.559304721457835,6.4277412292726,4.632477980486205,0.8498814429189294,1.7668198314357308,7.84893109342703,0.2601916408601379,6.354454950186646,8.915396564942483,5.294558102528454,5.0442231387584275,8.215934020917373,2.5907873266680017,9.843449319694784,8.124331968035978,1.561978685797798,9.937943198619081,1.4253253213500183,9.075178175198209,9.497541707988377,1.426523037198082,4.572189870973437,1.9676279791771367,2.9682364346809154,1.7021063499176114,5.606492952682023,0.15726469479395488,6.997387557230523,2.9850441292309715,0.22618667557233518,7.540118505888232,5.81049879979493,1.7037798384512304,1.9605517461346422,9.883613820984593,7.732950798112834,3.8366224965135998,7.90206610953221]}},\"id\":\"db16dd3a-b44c-4aba-8699-db3467896ae5\",\"type\":\"ColumnDataSource\"},{\"attributes\":{},\"id\":\"eb82aa29-f8d2-4c00-8bcd-4495274f5b6c\",\"type\":\"BasicTickFormatter\"},{\"attributes\":{\"plot\":{\"id\":\"d418b75e-391b-49f0-8c07-af5f9de2b6e7\",\"subtype\":\"Figure\",\"type\":\"Plot\"}},\"id\":\"01ed28d5-e9ae-4599-b722-622e51dc0091\",\"type\":\"WheelZoomTool\"},{\"attributes\":{\"plot\":{\"id\":\"d418b75e-391b-49f0-8c07-af5f9de2b6e7\",\"subtype\":\"Figure\",\"type\":\"Plot\"}},\"id\":\"8c9fcc38-70a9-4c43-82d3-8c280369263d\",\"type\":\"SaveTool\"},{\"attributes\":{\"plot\":{\"id\":\"d418b75e-391b-49f0-8c07-af5f9de2b6e7\",\"subtype\":\"Figure\",\"type\":\"Plot\"},\"ticker\":{\"id\":\"9098310f-3c3c-45b5-b09b-f642b808b3dc\",\"type\":\"BasicTicker\"}},\"id\":\"49bd3ad0-5cc2-4206-ae4e-c05997eb09b2\",\"type\":\"Grid\"},{\"attributes\":{\"below\":[{\"id\":\"92266658-75ca-4e4a-be0c-b270b02fe512\",\"type\":\"LinearAxis\"}],\"left\":[{\"id\":\"dce34cb4-ef48-4522-ab35-b29ee74a808c\",\"type\":\"LinearAxis\"}],\"renderers\":[{\"id\":\"92266658-75ca-4e4a-be0c-b270b02fe512\",\"type\":\"LinearAxis\"},{\"id\":\"49bd3ad0-5cc2-4206-ae4e-c05997eb09b2\",\"type\":\"Grid\"},{\"id\":\"dce34cb4-ef48-4522-ab35-b29ee74a808c\",\"type\":\"LinearAxis\"},{\"id\":\"e5eafb1d-3f23-4034-8481-2242bf7c6f21\",\"type\":\"Grid\"},{\"id\":\"9ae9bb42-683a-43fc-a5e9-a528f1cb27d3\",\"type\":\"BoxAnnotation\"},{\"id\":\"c63ff6e3-20b3-4226-a829-b7d103d91494\",\"type\":\"BoxAnnotation\"},{\"id\":\"f06d1819-eca5-474c-af88-bdc8050d165e\",\"type\":\"PolyAnnotation\"},{\"id\":\"4972707e-f70b-4d26-84b6-6a196b358d88\",\"type\":\"PolyAnnotation\"},{\"id\":\"c4da8a68-0846-4bf7-af28-03a15d0771aa\",\"type\":\"GlyphRenderer\"}],\"title\":{\"id\":\"c8fcd641-f238-48b8-8953-3f3efe6ff818\",\"type\":\"Title\"},\"tool_events\":{\"id\":\"d3be07cb-38e1-4bf4-a9e3-a76ad1ad5a23\",\"type\":\"ToolEvents\"},\"toolbar\":{\"id\":\"16445f03-9e33-4bb6-a9db-f54de07e8dbe\",\"type\":\"Toolbar\"},\"x_range\":{\"id\":\"f419ea7b-149a-4a10-966c-f217d32907b8\",\"type\":\"DataRange1d\"},\"y_range\":{\"id\":\"dcfc2855-3540-41ba-bbe0-57dbc28381bc\",\"type\":\"DataRange1d\"}},\"id\":\"d418b75e-391b-49f0-8c07-af5f9de2b6e7\",\"subtype\":\"Figure\",\"type\":\"Plot\"},{\"attributes\":{\"fill_alpha\":{\"value\":0.5},\"fill_color\":{\"value\":\"lightgrey\"},\"level\":\"overlay\",\"line_alpha\":{\"value\":1.0},\"line_color\":{\"value\":\"black\"},\"line_dash\":[4,4],\"line_width\":{\"value\":2},\"plot\":null,\"xs_units\":\"screen\",\"ys_units\":\"screen\"},\"id\":\"f06d1819-eca5-474c-af88-bdc8050d165e\",\"type\":\"PolyAnnotation\"},{\"attributes\":{\"tools\":[{\"id\":\"9959463e-cf92-4d8c-96cf-078c97fa956a\",\"type\":\"ResizeTool\"},{\"id\":\"5a809e10-e559-4b82-8377-f1a91f172653\",\"type\":\"CrosshairTool\"},{\"id\":\"1edaf3aa-4002-44bc-a92a-7b89dd2d2ff2\",\"type\":\"PanTool\"},{\"id\":\"01ed28d5-e9ae-4599-b722-622e51dc0091\",\"type\":\"WheelZoomTool\"},{\"id\":\"2bb80e4d-00f2-4453-9f1f-696078732d2b\",\"type\":\"BoxZoomTool\"},{\"id\":\"b90971a0-199a-47db-b43e-af4e4a4d682c\",\"type\":\"ResetTool\"},{\"id\":\"98209ee8-456d-4a48-aed2-92390a50cd7e\",\"type\":\"TapTool\"},{\"id\":\"8c9fcc38-70a9-4c43-82d3-8c280369263d\",\"type\":\"SaveTool\"},{\"id\":\"6fbaeacf-a1de-4b01-a78f-160d6224164e\",\"type\":\"BoxSelectTool\"},{\"id\":\"2c3830a8-3b39-47cf-88e4-91e0cc04dd91\",\"type\":\"PolySelectTool\"},{\"id\":\"79cc5084-54df-474f-a4e0-9087838d9c51\",\"type\":\"LassoSelectTool\"}]},\"id\":\"16445f03-9e33-4bb6-a9db-f54de07e8dbe\",\"type\":\"Toolbar\"},{\"attributes\":{\"fill_alpha\":{\"value\":0.5},\"fill_color\":{\"value\":\"lightgrey\"},\"level\":\"overlay\",\"line_alpha\":{\"value\":1.0},\"line_color\":{\"value\":\"black\"},\"line_dash\":[4,4],\"line_width\":{\"value\":2},\"plot\":null,\"xs_units\":\"screen\",\"ys_units\":\"screen\"},\"id\":\"4972707e-f70b-4d26-84b6-6a196b358d88\",\"type\":\"PolyAnnotation\"},{\"attributes\":{\"overlay\":{\"id\":\"9ae9bb42-683a-43fc-a5e9-a528f1cb27d3\",\"type\":\"BoxAnnotation\"},\"plot\":{\"id\":\"d418b75e-391b-49f0-8c07-af5f9de2b6e7\",\"subtype\":\"Figure\",\"type\":\"Plot\"}},\"id\":\"2bb80e4d-00f2-4453-9f1f-696078732d2b\",\"type\":\"BoxZoomTool\"},{\"attributes\":{},\"id\":\"9098310f-3c3c-45b5-b09b-f642b808b3dc\",\"type\":\"BasicTicker\"},{\"attributes\":{\"plot\":null,\"text\":null},\"id\":\"c8fcd641-f238-48b8-8953-3f3efe6ff818\",\"type\":\"Title\"},{\"attributes\":{\"plot\":{\"id\":\"d418b75e-391b-49f0-8c07-af5f9de2b6e7\",\"subtype\":\"Figure\",\"type\":\"Plot\"}},\"id\":\"9959463e-cf92-4d8c-96cf-078c97fa956a\",\"type\":\"ResizeTool\"},{\"attributes\":{\"overlay\":{\"id\":\"f06d1819-eca5-474c-af88-bdc8050d165e\",\"type\":\"PolyAnnotation\"},\"plot\":{\"id\":\"d418b75e-391b-49f0-8c07-af5f9de2b6e7\",\"subtype\":\"Figure\",\"type\":\"Plot\"}},\"id\":\"2c3830a8-3b39-47cf-88e4-91e0cc04dd91\",\"type\":\"PolySelectTool\"},{\"attributes\":{\"callback\":null},\"id\":\"dcfc2855-3540-41ba-bbe0-57dbc28381bc\",\"type\":\"DataRange1d\"},{\"attributes\":{\"callback\":null,\"overlay\":{\"id\":\"c63ff6e3-20b3-4226-a829-b7d103d91494\",\"type\":\"BoxAnnotation\"},\"plot\":{\"id\":\"d418b75e-391b-49f0-8c07-af5f9de2b6e7\",\"subtype\":\"Figure\",\"type\":\"Plot\"},\"renderers\":[{\"id\":\"c4da8a68-0846-4bf7-af28-03a15d0771aa\",\"type\":\"GlyphRenderer\"}]},\"id\":\"6fbaeacf-a1de-4b01-a78f-160d6224164e\",\"type\":\"BoxSelectTool\"},{\"attributes\":{\"bottom_units\":\"screen\",\"fill_alpha\":{\"value\":0.5},\"fill_color\":{\"value\":\"lightgrey\"},\"left_units\":\"screen\",\"level\":\"overlay\",\"line_alpha\":{\"value\":1.0},\"line_color\":{\"value\":\"black\"},\"line_dash\":[4,4],\"line_width\":{\"value\":2},\"plot\":null,\"render_mode\":\"css\",\"right_units\":\"screen\",\"top_units\":\"screen\"},\"id\":\"9ae9bb42-683a-43fc-a5e9-a528f1cb27d3\",\"type\":\"BoxAnnotation\"},{\"attributes\":{\"plot\":{\"id\":\"d418b75e-391b-49f0-8c07-af5f9de2b6e7\",\"subtype\":\"Figure\",\"type\":\"Plot\"}},\"id\":\"1edaf3aa-4002-44bc-a92a-7b89dd2d2ff2\",\"type\":\"PanTool\"},{\"attributes\":{\"plot\":{\"id\":\"d418b75e-391b-49f0-8c07-af5f9de2b6e7\",\"subtype\":\"Figure\",\"type\":\"Plot\"}},\"id\":\"b90971a0-199a-47db-b43e-af4e4a4d682c\",\"type\":\"ResetTool\"},{\"attributes\":{\"children\":[{\"id\":\"d418b75e-391b-49f0-8c07-af5f9de2b6e7\",\"subtype\":\"Figure\",\"type\":\"Plot\"}]},\"id\":\"2ce9c64e-bf32-4fd5-9264-27d076cfe8ad\",\"type\":\"Row\"},{\"attributes\":{},\"id\":\"d3be07cb-38e1-4bf4-a9e3-a76ad1ad5a23\",\"type\":\"ToolEvents\"},{\"attributes\":{\"plot\":{\"id\":\"d418b75e-391b-49f0-8c07-af5f9de2b6e7\",\"subtype\":\"Figure\",\"type\":\"Plot\"}},\"id\":\"5a809e10-e559-4b82-8377-f1a91f172653\",\"type\":\"CrosshairTool\"},{\"attributes\":{\"callback\":null,\"plot\":{\"id\":\"d418b75e-391b-49f0-8c07-af5f9de2b6e7\",\"subtype\":\"Figure\",\"type\":\"Plot\"}},\"id\":\"98209ee8-456d-4a48-aed2-92390a50cd7e\",\"type\":\"TapTool\"},{\"attributes\":{\"callback\":null},\"id\":\"f419ea7b-149a-4a10-966c-f217d32907b8\",\"type\":\"DataRange1d\"},{\"attributes\":{\"formatter\":{\"id\":\"eb82aa29-f8d2-4c00-8bcd-4495274f5b6c\",\"type\":\"BasicTickFormatter\"},\"plot\":{\"id\":\"d418b75e-391b-49f0-8c07-af5f9de2b6e7\",\"subtype\":\"Figure\",\"type\":\"Plot\"},\"ticker\":{\"id\":\"37b25f4f-36a4-4076-9378-38a9dc52cdeb\",\"type\":\"BasicTicker\"}},\"id\":\"dce34cb4-ef48-4522-ab35-b29ee74a808c\",\"type\":\"LinearAxis\"},{\"attributes\":{\"fill_alpha\":{\"value\":0.6},\"fill_color\":{\"field\":\"fill_color\"},\"line_color\":{\"value\":null},\"radius\":{\"field\":\"radius\",\"units\":\"data\"},\"x\":{\"field\":\"x\"},\"y\":{\"field\":\"y\"}},\"id\":\"36943799-5085-4744-86f4-70e78de3e1bc\",\"type\":\"Circle\"}],\"root_ids\":[\"2ce9c64e-bf32-4fd5-9264-27d076cfe8ad\"]},\"title\":\"Bokeh Application\",\"version\":\"0.12.0dev12-3-gc6f0193-dirty\"}};\n",
       "            var render_items = [{\"docid\":\"08f5e1b7-b245-4c62-bb27-8d6b9233e517\",\"elementid\":\"24a615d7-52fa-4082-a5d9-757259d7d593\",\"modelid\":\"2ce9c64e-bf32-4fd5-9264-27d076cfe8ad\",\"notebook_comms_target\":\"604ccea0-5eec-469d-8964-8b61e493531f\"}];\n",
       "            \n",
       "            Bokeh.embed.embed_items(docs_json, render_items);\n",
       "        });\n",
       "      },\n",
       "      function(Bokeh) {\n",
       "      }\n",
       "    ];\n",
       "  \n",
       "    function run_inline_js() {\n",
       "      for (var i = 0; i < inline_js.length; i++) {\n",
       "        inline_js[i](window.Bokeh);\n",
       "      }\n",
       "    }\n",
       "  \n",
       "    if (window._bokeh_is_loading === 0) {\n",
       "      console.log(\"Bokeh: BokehJS loaded, going straight to plotting\");\n",
       "      run_inline_js();\n",
       "    } else {\n",
       "      load_libs(js_urls, function() {\n",
       "        console.log(\"Bokeh: BokehJS plotting callback run at\", now());\n",
       "        run_inline_js();\n",
       "      });\n",
       "    }\n",
       "  }(this));\n",
       "</script>"
      ]
     },
     "metadata": {},
     "output_type": "display_data"
    },
    {
     "data": {
      "text/html": [
       "<p><code>&lt;Bokeh Notebook handle for <strong>In[6]</strong>&gt;</code></p>"
      ],
      "text/plain": [
       "<bokeh.io._CommsHandle at 0x10cfcbd68>"
      ]
     },
     "execution_count": 6,
     "metadata": {},
     "output_type": "execute_result"
    }
   ],
   "source": [
    "TOOLS=\"resize,crosshair,pan,wheel_zoom,box_zoom,reset,tap,save,box_select,poly_select,lasso_select\"\n",
    "\n",
    "p = figure(tools=TOOLS)\n",
    "p.scatter(x,y, radius=radii, fill_color=colors, fill_alpha=0.6, line_color=None)\n",
    "show(row(children=[p]))"
   ]
  },
  {
   "cell_type": "code",
   "execution_count": 7,
   "metadata": {
    "collapsed": false
   },
   "outputs": [
    {
     "data": {
      "text/html": [
       "\n",
       "\n",
       "    <div class=\"bk-root\">\n",
       "        <div class=\"plotdiv\" id=\"1c019517-031d-40bc-b58a-82f26168a129\"></div>\n",
       "    </div>\n",
       "<script type=\"text/javascript\">\n",
       "  \n",
       "  (function(global) {\n",
       "    function now() {\n",
       "      return new Date();\n",
       "    }\n",
       "  \n",
       "    if (typeof (window._bokeh_onload_callbacks) === \"undefined\") {\n",
       "      window._bokeh_onload_callbacks = [];\n",
       "    }\n",
       "  \n",
       "    function run_callbacks() {\n",
       "      window._bokeh_onload_callbacks.forEach(function(callback) { callback() });\n",
       "      delete window._bokeh_onload_callbacks\n",
       "      console.info(\"Bokeh: all callbacks have finished\");\n",
       "    }\n",
       "  \n",
       "    function load_libs(js_urls, callback) {\n",
       "      window._bokeh_onload_callbacks.push(callback);\n",
       "      if (window._bokeh_is_loading > 0) {\n",
       "        console.log(\"Bokeh: BokehJS is being loaded, scheduling callback at\", now());\n",
       "        return null;\n",
       "      }\n",
       "      if (js_urls == null || js_urls.length === 0) {\n",
       "        run_callbacks();\n",
       "        return null;\n",
       "      }\n",
       "      console.log(\"Bokeh: BokehJS not loaded, scheduling load and callback at\", now());\n",
       "      window._bokeh_is_loading = js_urls.length;\n",
       "      for (var i = 0; i < js_urls.length; i++) {\n",
       "        var url = js_urls[i];\n",
       "        var s = document.createElement('script');\n",
       "        s.src = url;\n",
       "        s.async = false;\n",
       "        s.onreadystatechange = s.onload = function() {\n",
       "          window._bokeh_is_loading--;\n",
       "          if (window._bokeh_is_loading === 0) {\n",
       "            console.log(\"Bokeh: all BokehJS libraries loaded\");\n",
       "            run_callbacks()\n",
       "          }\n",
       "        };\n",
       "        s.onerror = function() {\n",
       "          console.warn(\"failed to load library \" + url);\n",
       "        };\n",
       "        console.log(\"Bokeh: injecting script tag for BokehJS library: \", url);\n",
       "        document.getElementsByTagName(\"head\")[0].appendChild(s);\n",
       "      }\n",
       "    };var element = document.getElementById(\"1c019517-031d-40bc-b58a-82f26168a129\");\n",
       "    if (element == null) {\n",
       "      console.log(\"Bokeh: ERROR: autoload.js configured with elementid '1c019517-031d-40bc-b58a-82f26168a129' but no matching script tag was found. \")\n",
       "      return false;\n",
       "    }\n",
       "  \n",
       "    var js_urls = [];\n",
       "  \n",
       "    var inline_js = [\n",
       "      function(Bokeh) {\n",
       "        Bokeh.$(function() {\n",
       "            var docs_json = {\"b22d9dca-0f44-4bc6-8d25-73bd6c54d9a1\":{\"roots\":{\"references\":[{\"attributes\":{\"plot\":{\"id\":\"12ed5a64-d285-49be-a8c1-f36285a2c87e\",\"subtype\":\"Figure\",\"type\":\"Plot\"}},\"id\":\"0417905d-bcfc-4ad8-a7b3-429b7f509eec\",\"type\":\"ResizeTool\"},{\"attributes\":{\"overlay\":{\"id\":\"9ae9bb42-683a-43fc-a5e9-a528f1cb27d3\",\"type\":\"BoxAnnotation\"},\"plot\":{\"id\":\"d418b75e-391b-49f0-8c07-af5f9de2b6e7\",\"subtype\":\"Figure\",\"type\":\"Plot\"}},\"id\":\"2bb80e4d-00f2-4453-9f1f-696078732d2b\",\"type\":\"BoxZoomTool\"},{\"attributes\":{\"plot\":{\"id\":\"12ed5a64-d285-49be-a8c1-f36285a2c87e\",\"subtype\":\"Figure\",\"type\":\"Plot\"}},\"id\":\"accabee7-b301-454c-967b-fed2ce2d8d9e\",\"type\":\"CrosshairTool\"},{\"attributes\":{},\"id\":\"aa7b3905-55c6-49f9-8b20-a53771212aeb\",\"type\":\"BasicTicker\"},{\"attributes\":{\"fill_alpha\":{\"value\":0.1},\"fill_color\":{\"value\":\"#1f77b4\"},\"line_alpha\":{\"value\":0.1},\"line_color\":{\"value\":\"#1f77b4\"},\"radius\":{\"field\":\"radius\",\"units\":\"data\"},\"x\":{\"field\":\"x\"},\"y\":{\"field\":\"y\"}},\"id\":\"0c44c2fb-a907-4aa8-a13c-3cefeaa7d1b9\",\"type\":\"Circle\"},{\"attributes\":{\"bottom_units\":\"screen\",\"fill_alpha\":{\"value\":0.5},\"fill_color\":{\"value\":\"lightgrey\"},\"left_units\":\"screen\",\"level\":\"overlay\",\"line_alpha\":{\"value\":1.0},\"line_color\":{\"value\":\"black\"},\"line_dash\":[4,4],\"line_width\":{\"value\":2},\"plot\":null,\"render_mode\":\"css\",\"right_units\":\"screen\",\"top_units\":\"screen\"},\"id\":\"c63ff6e3-20b3-4226-a829-b7d103d91494\",\"type\":\"BoxAnnotation\"},{\"attributes\":{\"plot\":{\"id\":\"12ed5a64-d285-49be-a8c1-f36285a2c87e\",\"subtype\":\"Figure\",\"type\":\"Plot\"}},\"id\":\"f8219220-4212-4a0f-b7a2-1de55d20a01e\",\"type\":\"WheelZoomTool\"},{\"attributes\":{\"overlay\":{\"id\":\"94706114-61a4-455f-b8bd-ae9fe42769f6\",\"type\":\"BoxAnnotation\"},\"plot\":{\"id\":\"12ed5a64-d285-49be-a8c1-f36285a2c87e\",\"subtype\":\"Figure\",\"type\":\"Plot\"}},\"id\":\"de66c453-d320-4e4f-9c4e-738c3acbf25b\",\"type\":\"BoxZoomTool\"},{\"attributes\":{\"formatter\":{\"id\":\"57beb4ac-724e-4de6-b85e-cdb4087534a8\",\"type\":\"BasicTickFormatter\"},\"plot\":{\"id\":\"d418b75e-391b-49f0-8c07-af5f9de2b6e7\",\"subtype\":\"Figure\",\"type\":\"Plot\"},\"ticker\":{\"id\":\"9098310f-3c3c-45b5-b09b-f642b808b3dc\",\"type\":\"BasicTicker\"}},\"id\":\"92266658-75ca-4e4a-be0c-b270b02fe512\",\"type\":\"LinearAxis\"},{\"attributes\":{},\"id\":\"eb82aa29-f8d2-4c00-8bcd-4495274f5b6c\",\"type\":\"BasicTickFormatter\"},{\"attributes\":{},\"id\":\"12f02149-bcb4-445f-b6b2-87febec9d1ae\",\"type\":\"BasicTicker\"},{\"attributes\":{\"plot\":{\"id\":\"d418b75e-391b-49f0-8c07-af5f9de2b6e7\",\"subtype\":\"Figure\",\"type\":\"Plot\"},\"ticker\":{\"id\":\"9098310f-3c3c-45b5-b09b-f642b808b3dc\",\"type\":\"BasicTicker\"}},\"id\":\"49bd3ad0-5cc2-4206-ae4e-c05997eb09b2\",\"type\":\"Grid\"},{\"attributes\":{\"callback\":null},\"id\":\"43a43464-ec94-4921-86b9-d89ed43e9d72\",\"type\":\"DataRange1d\"},{\"attributes\":{\"tools\":[{\"id\":\"9959463e-cf92-4d8c-96cf-078c97fa956a\",\"type\":\"ResizeTool\"},{\"id\":\"5a809e10-e559-4b82-8377-f1a91f172653\",\"type\":\"CrosshairTool\"},{\"id\":\"1edaf3aa-4002-44bc-a92a-7b89dd2d2ff2\",\"type\":\"PanTool\"},{\"id\":\"01ed28d5-e9ae-4599-b722-622e51dc0091\",\"type\":\"WheelZoomTool\"},{\"id\":\"2bb80e4d-00f2-4453-9f1f-696078732d2b\",\"type\":\"BoxZoomTool\"},{\"id\":\"b90971a0-199a-47db-b43e-af4e4a4d682c\",\"type\":\"ResetTool\"},{\"id\":\"98209ee8-456d-4a48-aed2-92390a50cd7e\",\"type\":\"TapTool\"},{\"id\":\"8c9fcc38-70a9-4c43-82d3-8c280369263d\",\"type\":\"SaveTool\"},{\"id\":\"6fbaeacf-a1de-4b01-a78f-160d6224164e\",\"type\":\"BoxSelectTool\"},{\"id\":\"2c3830a8-3b39-47cf-88e4-91e0cc04dd91\",\"type\":\"PolySelectTool\"},{\"id\":\"79cc5084-54df-474f-a4e0-9087838d9c51\",\"type\":\"LassoSelectTool\"}]},\"id\":\"16445f03-9e33-4bb6-a9db-f54de07e8dbe\",\"type\":\"Toolbar\"},{\"attributes\":{\"fill_alpha\":{\"value\":0.5},\"fill_color\":{\"value\":\"lightgrey\"},\"level\":\"overlay\",\"line_alpha\":{\"value\":1.0},\"line_color\":{\"value\":\"black\"},\"line_dash\":[4,4],\"line_width\":{\"value\":2},\"plot\":null,\"xs_units\":\"screen\",\"ys_units\":\"screen\"},\"id\":\"4972707e-f70b-4d26-84b6-6a196b358d88\",\"type\":\"PolyAnnotation\"},{\"attributes\":{\"dimension\":1,\"plot\":{\"id\":\"d418b75e-391b-49f0-8c07-af5f9de2b6e7\",\"subtype\":\"Figure\",\"type\":\"Plot\"},\"ticker\":{\"id\":\"37b25f4f-36a4-4076-9378-38a9dc52cdeb\",\"type\":\"BasicTicker\"}},\"id\":\"e5eafb1d-3f23-4034-8481-2242bf7c6f21\",\"type\":\"Grid\"},{\"attributes\":{\"bottom_units\":\"screen\",\"fill_alpha\":{\"value\":0.5},\"fill_color\":{\"value\":\"lightgrey\"},\"left_units\":\"screen\",\"level\":\"overlay\",\"line_alpha\":{\"value\":1.0},\"line_color\":{\"value\":\"black\"},\"line_dash\":[4,4],\"line_width\":{\"value\":2},\"plot\":null,\"render_mode\":\"css\",\"right_units\":\"screen\",\"top_units\":\"screen\"},\"id\":\"94706114-61a4-455f-b8bd-ae9fe42769f6\",\"type\":\"BoxAnnotation\"},{\"attributes\":{\"formatter\":{\"id\":\"eb82aa29-f8d2-4c00-8bcd-4495274f5b6c\",\"type\":\"BasicTickFormatter\"},\"plot\":{\"id\":\"d418b75e-391b-49f0-8c07-af5f9de2b6e7\",\"subtype\":\"Figure\",\"type\":\"Plot\"},\"ticker\":{\"id\":\"37b25f4f-36a4-4076-9378-38a9dc52cdeb\",\"type\":\"BasicTicker\"}},\"id\":\"dce34cb4-ef48-4522-ab35-b29ee74a808c\",\"type\":\"LinearAxis\"},{\"attributes\":{\"callback\":null},\"id\":\"dcfc2855-3540-41ba-bbe0-57dbc28381bc\",\"type\":\"DataRange1d\"},{\"attributes\":{\"plot\":{\"id\":\"12ed5a64-d285-49be-a8c1-f36285a2c87e\",\"subtype\":\"Figure\",\"type\":\"Plot\"},\"ticker\":{\"id\":\"aa7b3905-55c6-49f9-8b20-a53771212aeb\",\"type\":\"BasicTicker\"}},\"id\":\"d9029567-ea98-4595-a3cf-e3d18228b4aa\",\"type\":\"Grid\"},{\"attributes\":{},\"id\":\"0f25a901-6f75-49e4-8f48-1f019df0b3da\",\"type\":\"BasicTickFormatter\"},{\"attributes\":{\"below\":[{\"id\":\"92266658-75ca-4e4a-be0c-b270b02fe512\",\"type\":\"LinearAxis\"}],\"left\":[{\"id\":\"dce34cb4-ef48-4522-ab35-b29ee74a808c\",\"type\":\"LinearAxis\"}],\"renderers\":[{\"id\":\"92266658-75ca-4e4a-be0c-b270b02fe512\",\"type\":\"LinearAxis\"},{\"id\":\"49bd3ad0-5cc2-4206-ae4e-c05997eb09b2\",\"type\":\"Grid\"},{\"id\":\"dce34cb4-ef48-4522-ab35-b29ee74a808c\",\"type\":\"LinearAxis\"},{\"id\":\"e5eafb1d-3f23-4034-8481-2242bf7c6f21\",\"type\":\"Grid\"},{\"id\":\"9ae9bb42-683a-43fc-a5e9-a528f1cb27d3\",\"type\":\"BoxAnnotation\"},{\"id\":\"c63ff6e3-20b3-4226-a829-b7d103d91494\",\"type\":\"BoxAnnotation\"},{\"id\":\"f06d1819-eca5-474c-af88-bdc8050d165e\",\"type\":\"PolyAnnotation\"},{\"id\":\"4972707e-f70b-4d26-84b6-6a196b358d88\",\"type\":\"PolyAnnotation\"},{\"id\":\"c4da8a68-0846-4bf7-af28-03a15d0771aa\",\"type\":\"GlyphRenderer\"}],\"title\":{\"id\":\"c8fcd641-f238-48b8-8953-3f3efe6ff818\",\"type\":\"Title\"},\"tool_events\":{\"id\":\"d3be07cb-38e1-4bf4-a9e3-a76ad1ad5a23\",\"type\":\"ToolEvents\"},\"toolbar\":{\"id\":\"16445f03-9e33-4bb6-a9db-f54de07e8dbe\",\"type\":\"Toolbar\"},\"x_range\":{\"id\":\"f419ea7b-149a-4a10-966c-f217d32907b8\",\"type\":\"DataRange1d\"},\"y_range\":{\"id\":\"dcfc2855-3540-41ba-bbe0-57dbc28381bc\",\"type\":\"DataRange1d\"}},\"id\":\"d418b75e-391b-49f0-8c07-af5f9de2b6e7\",\"subtype\":\"Figure\",\"type\":\"Plot\"},{\"attributes\":{\"bottom_units\":\"screen\",\"fill_alpha\":{\"value\":0.5},\"fill_color\":{\"value\":\"lightgrey\"},\"left_units\":\"screen\",\"level\":\"overlay\",\"line_alpha\":{\"value\":1.0},\"line_color\":{\"value\":\"black\"},\"line_dash\":[4,4],\"line_width\":{\"value\":2},\"plot\":null,\"render_mode\":\"css\",\"right_units\":\"screen\",\"top_units\":\"screen\"},\"id\":\"9ae9bb42-683a-43fc-a5e9-a528f1cb27d3\",\"type\":\"BoxAnnotation\"},{\"attributes\":{\"children\":[{\"id\":\"12ed5a64-d285-49be-a8c1-f36285a2c87e\",\"subtype\":\"Figure\",\"type\":\"Plot\"}]},\"id\":\"6517923c-dcdf-4011-acd8-2bc3459aa9bb\",\"type\":\"Row\"},{\"attributes\":{\"plot\":{\"id\":\"d418b75e-391b-49f0-8c07-af5f9de2b6e7\",\"subtype\":\"Figure\",\"type\":\"Plot\"}},\"id\":\"b90971a0-199a-47db-b43e-af4e4a4d682c\",\"type\":\"ResetTool\"},{\"attributes\":{\"callback\":null,\"column_names\":[\"y\",\"x\",\"radius\",\"fill_color\"],\"data\":{\"fill_color\":[\"#322296\",\"#391e96\",\"#352996\",\"#3b2a96\",\"#382796\",\"#3c1f96\",\"#432196\",\"#402d96\",\"#411e96\",\"#3e2a96\",\"#3c2f96\",\"#452896\",\"#362896\",\"#3c2e96\",\"#392396\",\"#423196\",\"#3d2e96\",\"#352196\",\"#3b3196\",\"#382096\",\"#443096\",\"#333096\",\"#3e2096\",\"#3f2796\",\"#352196\",\"#342396\",\"#3c2196\",\"#322996\",\"#381e96\",\"#342b96\",\"#352396\",\"#3f1e96\",\"#372d96\",\"#322996\",\"#432196\",\"#412196\",\"#3c3196\",\"#392d96\",\"#412596\",\"#3a2d96\"],\"radius\":[1.3745756812171193,0.7799470428640498,0.20075080662811168,0.40911650645098313,1.069383075082401,1.301492213131426,1.0545046590960467,1.4033235304694085,0.8371311033435401,1.2402303102903347,1.1774492519557738,0.4266827144088705,1.1965780113776046,0.7330865116812759,1.3297239607985014,0.7100408774854112,0.13540018463735998,0.3065113150919621,0.9661852265291027,0.4676942882067727,1.2245162285728728,0.36916745664328987,0.0974518265207962,0.8012080641255115,0.47778740425025246,0.8447701035149653,0.1621511425529129,0.3894396796192937,0.22864486714013416,1.257248385888198,0.8403130574492779,1.375793849075572,0.27136216522960427,1.1086344099001209,0.9898150363206921,1.2184871412836795,0.008665473251839362,0.8504180297349976,1.2407617122181052,1.3111628137309885],\"x\":[0.3338671945360494,3.775136781403333,1.5875495701693976,4.53278662545173,3.4192362237056892,5.074621245199575,8.956235733482444,7.2479799800969165,7.787858346956974,6.228756955486432,5.212306525803722,9.690058531186844,2.0653966211680097,5.047172787944985,3.8233066212509668,8.267883013073106,5.9224454595717555,1.658903035970537,4.887579817865099,3.1581131986585174,9.13487928892639,0.9199715201529546,6.101744185119173,6.588266579325919,1.669990017259665,1.4869281617136998,5.019812517569447,0.4540450569609489,3.123468451036149,1.2131387326678322,1.5632490573140612,6.767885672419533,2.622566680253505,0.3584948538284316,8.865190345929708,7.662647163272954,5.1395027126019865,3.96265649399943,7.860102899002179,4.029143053008902],\"y\":[2.1921977492487765,0.470112348418501,5.559304721457835,6.4277412292726,4.632477980486205,0.8498814429189294,1.7668198314357308,7.84893109342703,0.2601916408601379,6.354454950186646,8.915396564942483,5.294558102528454,5.0442231387584275,8.215934020917373,2.5907873266680017,9.843449319694784,8.124331968035978,1.561978685797798,9.937943198619081,1.4253253213500183,9.075178175198209,9.497541707988377,1.426523037198082,4.572189870973437,1.9676279791771367,2.9682364346809154,1.7021063499176114,5.606492952682023,0.15726469479395488,6.997387557230523,2.9850441292309715,0.22618667557233518,7.540118505888232,5.81049879979493,1.7037798384512304,1.9605517461346422,9.883613820984593,7.732950798112834,3.8366224965135998,7.90206610953221]}},\"id\":\"aa760fd2-c596-4152-82df-e5cddc474f97\",\"type\":\"ColumnDataSource\"},{\"attributes\":{\"fill_alpha\":{\"value\":0.1},\"fill_color\":{\"value\":\"#1f77b4\"},\"line_alpha\":{\"value\":0.1},\"line_color\":{\"value\":\"#1f77b4\"},\"radius\":{\"field\":\"radius\",\"units\":\"data\"},\"x\":{\"field\":\"x\"},\"y\":{\"field\":\"y\"}},\"id\":\"95438faa-53d5-4056-9d57-79d518ea6ef2\",\"type\":\"Circle\"},{\"attributes\":{\"plot\":{\"id\":\"d418b75e-391b-49f0-8c07-af5f9de2b6e7\",\"subtype\":\"Figure\",\"type\":\"Plot\"}},\"id\":\"01ed28d5-e9ae-4599-b722-622e51dc0091\",\"type\":\"WheelZoomTool\"},{\"attributes\":{\"callback\":null,\"plot\":{\"id\":\"d418b75e-391b-49f0-8c07-af5f9de2b6e7\",\"subtype\":\"Figure\",\"type\":\"Plot\"}},\"id\":\"98209ee8-456d-4a48-aed2-92390a50cd7e\",\"type\":\"TapTool\"},{\"attributes\":{\"callback\":null},\"id\":\"f419ea7b-149a-4a10-966c-f217d32907b8\",\"type\":\"DataRange1d\"},{\"attributes\":{},\"id\":\"d3be07cb-38e1-4bf4-a9e3-a76ad1ad5a23\",\"type\":\"ToolEvents\"},{\"attributes\":{\"fill_alpha\":{\"value\":0.6},\"fill_color\":{\"field\":\"fill_color\"},\"line_color\":{\"value\":null},\"radius\":{\"field\":\"radius\",\"units\":\"data\"},\"x\":{\"field\":\"x\"},\"y\":{\"field\":\"y\"}},\"id\":\"36943799-5085-4744-86f4-70e78de3e1bc\",\"type\":\"Circle\"},{\"attributes\":{},\"id\":\"57beb4ac-724e-4de6-b85e-cdb4087534a8\",\"type\":\"BasicTickFormatter\"},{\"attributes\":{\"formatter\":{\"id\":\"bb2acabe-a800-4ef8-99db-cda73beaad2e\",\"type\":\"BasicTickFormatter\"},\"plot\":{\"id\":\"12ed5a64-d285-49be-a8c1-f36285a2c87e\",\"subtype\":\"Figure\",\"type\":\"Plot\"},\"ticker\":{\"id\":\"aa7b3905-55c6-49f9-8b20-a53771212aeb\",\"type\":\"BasicTicker\"}},\"id\":\"06576ab9-f7de-4b26-8812-46238668f466\",\"type\":\"LinearAxis\"},{\"attributes\":{},\"id\":\"37b25f4f-36a4-4076-9378-38a9dc52cdeb\",\"type\":\"BasicTicker\"},{\"attributes\":{\"below\":[{\"id\":\"06576ab9-f7de-4b26-8812-46238668f466\",\"type\":\"LinearAxis\"}],\"left\":[{\"id\":\"911a35f3-c5dc-4597-8472-23d11724752b\",\"type\":\"LinearAxis\"}],\"renderers\":[{\"id\":\"06576ab9-f7de-4b26-8812-46238668f466\",\"type\":\"LinearAxis\"},{\"id\":\"d9029567-ea98-4595-a3cf-e3d18228b4aa\",\"type\":\"Grid\"},{\"id\":\"911a35f3-c5dc-4597-8472-23d11724752b\",\"type\":\"LinearAxis\"},{\"id\":\"9bb40609-d52f-409c-9e3a-e9c0e45a16e7\",\"type\":\"Grid\"},{\"id\":\"94706114-61a4-455f-b8bd-ae9fe42769f6\",\"type\":\"BoxAnnotation\"},{\"id\":\"55fbb71a-5916-4ad2-871b-bc58da6627c6\",\"type\":\"BoxAnnotation\"},{\"id\":\"265135d7-b651-4441-9a1c-ce3c432b07da\",\"type\":\"PolyAnnotation\"},{\"id\":\"9d272ea5-353a-4ceb-83d8-5c1ed1b5839e\",\"type\":\"PolyAnnotation\"},{\"id\":\"65cc4576-afae-4526-9edc-5d6bf49e828d\",\"type\":\"GlyphRenderer\"}],\"title\":{\"id\":\"a4d3da0a-ff27-46d7-9396-2c54049d8459\",\"type\":\"Title\"},\"tool_events\":{\"id\":\"0e7741a0-a1dd-445d-a6d0-64d0c8aea4ec\",\"type\":\"ToolEvents\"},\"toolbar\":{\"id\":\"d8e64ba2-8668-4574-a9fb-be4d563e0ee7\",\"type\":\"Toolbar\"},\"x_range\":{\"id\":\"297cd9de-a9d5-4ea6-9590-2c2e523cda54\",\"type\":\"DataRange1d\"},\"y_range\":{\"id\":\"43a43464-ec94-4921-86b9-d89ed43e9d72\",\"type\":\"DataRange1d\"}},\"id\":\"12ed5a64-d285-49be-a8c1-f36285a2c87e\",\"subtype\":\"Figure\",\"type\":\"Plot\"},{\"attributes\":{\"callback\":null,\"overlay\":{\"id\":\"4972707e-f70b-4d26-84b6-6a196b358d88\",\"type\":\"PolyAnnotation\"},\"plot\":{\"id\":\"d418b75e-391b-49f0-8c07-af5f9de2b6e7\",\"subtype\":\"Figure\",\"type\":\"Plot\"}},\"id\":\"79cc5084-54df-474f-a4e0-9087838d9c51\",\"type\":\"LassoSelectTool\"},{\"attributes\":{\"plot\":null,\"text\":null},\"id\":\"a4d3da0a-ff27-46d7-9396-2c54049d8459\",\"type\":\"Title\"},{\"attributes\":{\"data_source\":{\"id\":\"db16dd3a-b44c-4aba-8699-db3467896ae5\",\"type\":\"ColumnDataSource\"},\"glyph\":{\"id\":\"36943799-5085-4744-86f4-70e78de3e1bc\",\"type\":\"Circle\"},\"hover_glyph\":null,\"nonselection_glyph\":{\"id\":\"0c44c2fb-a907-4aa8-a13c-3cefeaa7d1b9\",\"type\":\"Circle\"},\"selection_glyph\":null},\"id\":\"c4da8a68-0846-4bf7-af28-03a15d0771aa\",\"type\":\"GlyphRenderer\"},{\"attributes\":{\"fill_alpha\":{\"value\":0.5},\"fill_color\":{\"value\":\"lightgrey\"},\"level\":\"overlay\",\"line_alpha\":{\"value\":1.0},\"line_color\":{\"value\":\"black\"},\"line_dash\":[4,4],\"line_width\":{\"value\":2},\"plot\":null,\"xs_units\":\"screen\",\"ys_units\":\"screen\"},\"id\":\"9d272ea5-353a-4ceb-83d8-5c1ed1b5839e\",\"type\":\"PolyAnnotation\"},{\"attributes\":{\"tools\":[{\"id\":\"0417905d-bcfc-4ad8-a7b3-429b7f509eec\",\"type\":\"ResizeTool\"},{\"id\":\"accabee7-b301-454c-967b-fed2ce2d8d9e\",\"type\":\"CrosshairTool\"},{\"id\":\"e990dec5-a657-4979-b75c-28c4e0cb3277\",\"type\":\"PanTool\"},{\"id\":\"f8219220-4212-4a0f-b7a2-1de55d20a01e\",\"type\":\"WheelZoomTool\"},{\"id\":\"de66c453-d320-4e4f-9c4e-738c3acbf25b\",\"type\":\"BoxZoomTool\"},{\"id\":\"719f6a76-1553-4179-8750-7a8099aa92f1\",\"type\":\"ResetTool\"},{\"id\":\"c1d050b9-1ee6-44f1-8714-9f4060b7489f\",\"type\":\"TapTool\"},{\"id\":\"512f3e9f-6744-47fe-a26a-e055ae86a2a3\",\"type\":\"SaveTool\"},{\"id\":\"efe11eb9-3f75-4638-9d68-b7e8ce0fabe4\",\"type\":\"BoxSelectTool\"},{\"id\":\"9f8b7750-058d-470f-846d-53440f0c66a1\",\"type\":\"PolySelectTool\"},{\"id\":\"5fb02cfe-28b8-411d-9993-0a7b02bdb405\",\"type\":\"LassoSelectTool\"}]},\"id\":\"d8e64ba2-8668-4574-a9fb-be4d563e0ee7\",\"type\":\"Toolbar\"},{\"attributes\":{\"fill_alpha\":{\"value\":0.6},\"fill_color\":{\"field\":\"fill_color\"},\"line_color\":{\"value\":null},\"radius\":{\"field\":\"radius\",\"units\":\"data\"},\"x\":{\"field\":\"x\"},\"y\":{\"field\":\"y\"}},\"id\":\"adc75145-bc56-434a-b950-95ae1c0142ed\",\"type\":\"Circle\"},{\"attributes\":{\"overlay\":{\"id\":\"265135d7-b651-4441-9a1c-ce3c432b07da\",\"type\":\"PolyAnnotation\"},\"plot\":{\"id\":\"12ed5a64-d285-49be-a8c1-f36285a2c87e\",\"subtype\":\"Figure\",\"type\":\"Plot\"}},\"id\":\"9f8b7750-058d-470f-846d-53440f0c66a1\",\"type\":\"PolySelectTool\"},{\"attributes\":{\"callback\":null,\"column_names\":[\"y\",\"x\",\"radius\",\"fill_color\"],\"data\":{\"fill_color\":[\"#322296\",\"#391e96\",\"#352996\",\"#3b2a96\",\"#382796\",\"#3c1f96\",\"#432196\",\"#402d96\",\"#411e96\",\"#3e2a96\",\"#3c2f96\",\"#452896\",\"#362896\",\"#3c2e96\",\"#392396\",\"#423196\",\"#3d2e96\",\"#352196\",\"#3b3196\",\"#382096\",\"#443096\",\"#333096\",\"#3e2096\",\"#3f2796\",\"#352196\",\"#342396\",\"#3c2196\",\"#322996\",\"#381e96\",\"#342b96\",\"#352396\",\"#3f1e96\",\"#372d96\",\"#322996\",\"#432196\",\"#412196\",\"#3c3196\",\"#392d96\",\"#412596\",\"#3a2d96\"],\"radius\":[1.3745756812171193,0.7799470428640498,0.20075080662811168,0.40911650645098313,1.069383075082401,1.301492213131426,1.0545046590960467,1.4033235304694085,0.8371311033435401,1.2402303102903347,1.1774492519557738,0.4266827144088705,1.1965780113776046,0.7330865116812759,1.3297239607985014,0.7100408774854112,0.13540018463735998,0.3065113150919621,0.9661852265291027,0.4676942882067727,1.2245162285728728,0.36916745664328987,0.0974518265207962,0.8012080641255115,0.47778740425025246,0.8447701035149653,0.1621511425529129,0.3894396796192937,0.22864486714013416,1.257248385888198,0.8403130574492779,1.375793849075572,0.27136216522960427,1.1086344099001209,0.9898150363206921,1.2184871412836795,0.008665473251839362,0.8504180297349976,1.2407617122181052,1.3111628137309885],\"x\":[0.3338671945360494,3.775136781403333,1.5875495701693976,4.53278662545173,3.4192362237056892,5.074621245199575,8.956235733482444,7.2479799800969165,7.787858346956974,6.228756955486432,5.212306525803722,9.690058531186844,2.0653966211680097,5.047172787944985,3.8233066212509668,8.267883013073106,5.9224454595717555,1.658903035970537,4.887579817865099,3.1581131986585174,9.13487928892639,0.9199715201529546,6.101744185119173,6.588266579325919,1.669990017259665,1.4869281617136998,5.019812517569447,0.4540450569609489,3.123468451036149,1.2131387326678322,1.5632490573140612,6.767885672419533,2.622566680253505,0.3584948538284316,8.865190345929708,7.662647163272954,5.1395027126019865,3.96265649399943,7.860102899002179,4.029143053008902],\"y\":[2.1921977492487765,0.470112348418501,5.559304721457835,6.4277412292726,4.632477980486205,0.8498814429189294,1.7668198314357308,7.84893109342703,0.2601916408601379,6.354454950186646,8.915396564942483,5.294558102528454,5.0442231387584275,8.215934020917373,2.5907873266680017,9.843449319694784,8.124331968035978,1.561978685797798,9.937943198619081,1.4253253213500183,9.075178175198209,9.497541707988377,1.426523037198082,4.572189870973437,1.9676279791771367,2.9682364346809154,1.7021063499176114,5.606492952682023,0.15726469479395488,6.997387557230523,2.9850441292309715,0.22618667557233518,7.540118505888232,5.81049879979493,1.7037798384512304,1.9605517461346422,9.883613820984593,7.732950798112834,3.8366224965135998,7.90206610953221]}},\"id\":\"db16dd3a-b44c-4aba-8699-db3467896ae5\",\"type\":\"ColumnDataSource\"},{\"attributes\":{\"callback\":null,\"overlay\":{\"id\":\"55fbb71a-5916-4ad2-871b-bc58da6627c6\",\"type\":\"BoxAnnotation\"},\"plot\":{\"id\":\"12ed5a64-d285-49be-a8c1-f36285a2c87e\",\"subtype\":\"Figure\",\"type\":\"Plot\"},\"renderers\":[{\"id\":\"65cc4576-afae-4526-9edc-5d6bf49e828d\",\"type\":\"GlyphRenderer\"}]},\"id\":\"efe11eb9-3f75-4638-9d68-b7e8ce0fabe4\",\"type\":\"BoxSelectTool\"},{\"attributes\":{\"plot\":{\"id\":\"12ed5a64-d285-49be-a8c1-f36285a2c87e\",\"subtype\":\"Figure\",\"type\":\"Plot\"}},\"id\":\"719f6a76-1553-4179-8750-7a8099aa92f1\",\"type\":\"ResetTool\"},{\"attributes\":{\"plot\":{\"id\":\"d418b75e-391b-49f0-8c07-af5f9de2b6e7\",\"subtype\":\"Figure\",\"type\":\"Plot\"}},\"id\":\"8c9fcc38-70a9-4c43-82d3-8c280369263d\",\"type\":\"SaveTool\"},{\"attributes\":{\"formatter\":{\"id\":\"0f25a901-6f75-49e4-8f48-1f019df0b3da\",\"type\":\"BasicTickFormatter\"},\"plot\":{\"id\":\"12ed5a64-d285-49be-a8c1-f36285a2c87e\",\"subtype\":\"Figure\",\"type\":\"Plot\"},\"ticker\":{\"id\":\"12f02149-bcb4-445f-b6b2-87febec9d1ae\",\"type\":\"BasicTicker\"}},\"id\":\"911a35f3-c5dc-4597-8472-23d11724752b\",\"type\":\"LinearAxis\"},{\"attributes\":{\"plot\":{\"id\":\"d418b75e-391b-49f0-8c07-af5f9de2b6e7\",\"subtype\":\"Figure\",\"type\":\"Plot\"}},\"id\":\"5a809e10-e559-4b82-8377-f1a91f172653\",\"type\":\"CrosshairTool\"},{\"attributes\":{\"fill_alpha\":{\"value\":0.5},\"fill_color\":{\"value\":\"lightgrey\"},\"level\":\"overlay\",\"line_alpha\":{\"value\":1.0},\"line_color\":{\"value\":\"black\"},\"line_dash\":[4,4],\"line_width\":{\"value\":2},\"plot\":null,\"xs_units\":\"screen\",\"ys_units\":\"screen\"},\"id\":\"f06d1819-eca5-474c-af88-bdc8050d165e\",\"type\":\"PolyAnnotation\"},{\"attributes\":{\"plot\":{\"id\":\"d418b75e-391b-49f0-8c07-af5f9de2b6e7\",\"subtype\":\"Figure\",\"type\":\"Plot\"}},\"id\":\"9959463e-cf92-4d8c-96cf-078c97fa956a\",\"type\":\"ResizeTool\"},{\"attributes\":{},\"id\":\"0e7741a0-a1dd-445d-a6d0-64d0c8aea4ec\",\"type\":\"ToolEvents\"},{\"attributes\":{},\"id\":\"9098310f-3c3c-45b5-b09b-f642b808b3dc\",\"type\":\"BasicTicker\"},{\"attributes\":{\"plot\":null,\"text\":null},\"id\":\"c8fcd641-f238-48b8-8953-3f3efe6ff818\",\"type\":\"Title\"},{\"attributes\":{\"plot\":{\"id\":\"12ed5a64-d285-49be-a8c1-f36285a2c87e\",\"subtype\":\"Figure\",\"type\":\"Plot\"}},\"id\":\"512f3e9f-6744-47fe-a26a-e055ae86a2a3\",\"type\":\"SaveTool\"},{\"attributes\":{\"overlay\":{\"id\":\"f06d1819-eca5-474c-af88-bdc8050d165e\",\"type\":\"PolyAnnotation\"},\"plot\":{\"id\":\"d418b75e-391b-49f0-8c07-af5f9de2b6e7\",\"subtype\":\"Figure\",\"type\":\"Plot\"}},\"id\":\"2c3830a8-3b39-47cf-88e4-91e0cc04dd91\",\"type\":\"PolySelectTool\"},{\"attributes\":{\"callback\":null,\"overlay\":{\"id\":\"c63ff6e3-20b3-4226-a829-b7d103d91494\",\"type\":\"BoxAnnotation\"},\"plot\":{\"id\":\"d418b75e-391b-49f0-8c07-af5f9de2b6e7\",\"subtype\":\"Figure\",\"type\":\"Plot\"},\"renderers\":[{\"id\":\"c4da8a68-0846-4bf7-af28-03a15d0771aa\",\"type\":\"GlyphRenderer\"}]},\"id\":\"6fbaeacf-a1de-4b01-a78f-160d6224164e\",\"type\":\"BoxSelectTool\"},{\"attributes\":{\"callback\":null,\"plot\":{\"id\":\"12ed5a64-d285-49be-a8c1-f36285a2c87e\",\"subtype\":\"Figure\",\"type\":\"Plot\"}},\"id\":\"c1d050b9-1ee6-44f1-8714-9f4060b7489f\",\"type\":\"TapTool\"},{\"attributes\":{},\"id\":\"bb2acabe-a800-4ef8-99db-cda73beaad2e\",\"type\":\"BasicTickFormatter\"},{\"attributes\":{\"plot\":{\"id\":\"d418b75e-391b-49f0-8c07-af5f9de2b6e7\",\"subtype\":\"Figure\",\"type\":\"Plot\"}},\"id\":\"1edaf3aa-4002-44bc-a92a-7b89dd2d2ff2\",\"type\":\"PanTool\"},{\"attributes\":{\"dimension\":1,\"plot\":{\"id\":\"12ed5a64-d285-49be-a8c1-f36285a2c87e\",\"subtype\":\"Figure\",\"type\":\"Plot\"},\"ticker\":{\"id\":\"12f02149-bcb4-445f-b6b2-87febec9d1ae\",\"type\":\"BasicTicker\"}},\"id\":\"9bb40609-d52f-409c-9e3a-e9c0e45a16e7\",\"type\":\"Grid\"},{\"attributes\":{\"callback\":null,\"overlay\":{\"id\":\"9d272ea5-353a-4ceb-83d8-5c1ed1b5839e\",\"type\":\"PolyAnnotation\"},\"plot\":{\"id\":\"12ed5a64-d285-49be-a8c1-f36285a2c87e\",\"subtype\":\"Figure\",\"type\":\"Plot\"}},\"id\":\"5fb02cfe-28b8-411d-9993-0a7b02bdb405\",\"type\":\"LassoSelectTool\"},{\"attributes\":{\"children\":[{\"id\":\"d418b75e-391b-49f0-8c07-af5f9de2b6e7\",\"subtype\":\"Figure\",\"type\":\"Plot\"}]},\"id\":\"2ce9c64e-bf32-4fd5-9264-27d076cfe8ad\",\"type\":\"Row\"},{\"attributes\":{\"callback\":null},\"id\":\"297cd9de-a9d5-4ea6-9590-2c2e523cda54\",\"type\":\"DataRange1d\"},{\"attributes\":{\"bottom_units\":\"screen\",\"fill_alpha\":{\"value\":0.5},\"fill_color\":{\"value\":\"lightgrey\"},\"left_units\":\"screen\",\"level\":\"overlay\",\"line_alpha\":{\"value\":1.0},\"line_color\":{\"value\":\"black\"},\"line_dash\":[4,4],\"line_width\":{\"value\":2},\"plot\":null,\"render_mode\":\"css\",\"right_units\":\"screen\",\"top_units\":\"screen\"},\"id\":\"55fbb71a-5916-4ad2-871b-bc58da6627c6\",\"type\":\"BoxAnnotation\"},{\"attributes\":{\"fill_alpha\":{\"value\":0.5},\"fill_color\":{\"value\":\"lightgrey\"},\"level\":\"overlay\",\"line_alpha\":{\"value\":1.0},\"line_color\":{\"value\":\"black\"},\"line_dash\":[4,4],\"line_width\":{\"value\":2},\"plot\":null,\"xs_units\":\"screen\",\"ys_units\":\"screen\"},\"id\":\"265135d7-b651-4441-9a1c-ce3c432b07da\",\"type\":\"PolyAnnotation\"},{\"attributes\":{\"data_source\":{\"id\":\"aa760fd2-c596-4152-82df-e5cddc474f97\",\"type\":\"ColumnDataSource\"},\"glyph\":{\"id\":\"adc75145-bc56-434a-b950-95ae1c0142ed\",\"type\":\"Circle\"},\"hover_glyph\":null,\"nonselection_glyph\":{\"id\":\"95438faa-53d5-4056-9d57-79d518ea6ef2\",\"type\":\"Circle\"},\"selection_glyph\":null},\"id\":\"65cc4576-afae-4526-9edc-5d6bf49e828d\",\"type\":\"GlyphRenderer\"},{\"attributes\":{\"plot\":{\"id\":\"12ed5a64-d285-49be-a8c1-f36285a2c87e\",\"subtype\":\"Figure\",\"type\":\"Plot\"}},\"id\":\"e990dec5-a657-4979-b75c-28c4e0cb3277\",\"type\":\"PanTool\"}],\"root_ids\":[\"2ce9c64e-bf32-4fd5-9264-27d076cfe8ad\",\"6517923c-dcdf-4011-acd8-2bc3459aa9bb\"]},\"title\":\"Bokeh Application\",\"version\":\"0.12.0dev12-3-gc6f0193-dirty\"}};\n",
       "            var render_items = [{\"docid\":\"b22d9dca-0f44-4bc6-8d25-73bd6c54d9a1\",\"elementid\":\"1c019517-031d-40bc-b58a-82f26168a129\",\"modelid\":\"6517923c-dcdf-4011-acd8-2bc3459aa9bb\",\"notebook_comms_target\":\"a5a75c41-41cf-4fe9-921b-0f47334821eb\"}];\n",
       "            \n",
       "            Bokeh.embed.embed_items(docs_json, render_items);\n",
       "        });\n",
       "      },\n",
       "      function(Bokeh) {\n",
       "      }\n",
       "    ];\n",
       "  \n",
       "    function run_inline_js() {\n",
       "      for (var i = 0; i < inline_js.length; i++) {\n",
       "        inline_js[i](window.Bokeh);\n",
       "      }\n",
       "    }\n",
       "  \n",
       "    if (window._bokeh_is_loading === 0) {\n",
       "      console.log(\"Bokeh: BokehJS loaded, going straight to plotting\");\n",
       "      run_inline_js();\n",
       "    } else {\n",
       "      load_libs(js_urls, function() {\n",
       "        console.log(\"Bokeh: BokehJS plotting callback run at\", now());\n",
       "        run_inline_js();\n",
       "      });\n",
       "    }\n",
       "  }(this));\n",
       "</script>"
      ]
     },
     "metadata": {},
     "output_type": "display_data"
    },
    {
     "data": {
      "text/html": [
       "<p><code>&lt;Bokeh Notebook handle for <strong>In[7]</strong>&gt;</code></p>"
      ],
      "text/plain": [
       "<bokeh.io._CommsHandle at 0x10cff1358>"
      ]
     },
     "execution_count": 7,
     "metadata": {},
     "output_type": "execute_result"
    }
   ],
   "source": [
    "TOOLS=\"resize,crosshair,pan,wheel_zoom,box_zoom,reset,tap,save,box_select,poly_select,lasso_select\"\n",
    "\n",
    "p = figure(tools=TOOLS)\n",
    "p.scatter(x,y, radius=radii, fill_color=colors, fill_alpha=0.6, line_color=None)\n",
    "show(row(children=[p]))"
   ]
  },
  {
   "cell_type": "code",
   "execution_count": null,
   "metadata": {
    "collapsed": true
   },
   "outputs": [],
   "source": []
  }
 ],
 "metadata": {
  "kernelspec": {
   "display_name": "Python 3",
   "language": "python",
   "name": "python3"
  },
  "language_info": {
   "codemirror_mode": {
    "name": "ipython",
    "version": 3
   },
   "file_extension": ".py",
   "mimetype": "text/x-python",
   "name": "python",
   "nbconvert_exporter": "python",
   "pygments_lexer": "ipython3",
   "version": "3.4.4"
  }
 },
 "nbformat": 4,
 "nbformat_minor": 0
}
