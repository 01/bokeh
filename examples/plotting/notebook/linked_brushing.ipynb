{
 "metadata": {
  "name": "",
  "signature": "sha256:6db1c6cf7aeac345e1598c1889b441ab3cf5c6783d401c220726dbba8afe5a7f"
 },
 "nbformat": 3,
 "nbformat_minor": 0,
 "worksheets": [
  {
   "cells": [
    {
     "cell_type": "code",
     "collapsed": false,
     "input": [
      "import numpy as np"
     ],
     "language": "python",
     "metadata": {},
     "outputs": []
    },
    {
     "cell_type": "code",
     "collapsed": false,
     "input": [
      "from bokeh.plotting import *\n",
      "from bokeh.objects import ColumnDataSource"
     ],
     "language": "python",
     "metadata": {},
     "outputs": []
    },
    {
     "cell_type": "code",
     "collapsed": false,
     "input": [
      "output_notebook()"
     ],
     "language": "python",
     "metadata": {},
     "outputs": []
    },
    {
     "cell_type": "code",
     "collapsed": false,
     "input": [
      "N=300\n",
      "x = np.linspace(0, 4*np.pi, N)\n",
      "y1 = np.sin(x)\n",
      "y2 = np.cos(x)"
     ],
     "language": "python",
     "metadata": {},
     "outputs": []
    },
    {
     "cell_type": "code",
     "collapsed": false,
     "input": [
      "source = ColumnDataSource()\n",
      "source.add(data=x, name='x')\n",
      "source.add(data=y1, name='y1')\n",
      "source.add(data=y1, name='y2')"
     ],
     "language": "python",
     "metadata": {},
     "outputs": []
    },
    {
     "cell_type": "code",
     "collapsed": false,
     "input": [
      "TOOLS = \"pan,wheel_zoom,box_zoom,reset,save,box_select,lasso_select\"\n",
      "\n",
      "s1 = figure(tools=TOOLS, plot_width=350, plot_height=350)\n",
      "s1.scatter('x', 'y1', source=source)\n",
      "\n",
      "#note that s2 shares the same x data source, but has a different y\n",
      "s2 = figure(tools=TOOLS, plot_width=350, plot_height=350)\n",
      "s2.scatter('x', 'y2', source=source)"
     ],
     "language": "python",
     "metadata": {},
     "outputs": []
    },
    {
     "cell_type": "code",
     "collapsed": false,
     "input": [
      "p = gridplot([[s1,s2]])\n",
      "show()"
     ],
     "language": "python",
     "metadata": {},
     "outputs": []
    },
    {
     "cell_type": "code",
     "collapsed": false,
     "input": [],
     "language": "python",
     "metadata": {},
     "outputs": []
    }
   ],
   "metadata": {}
  }
 ]
}